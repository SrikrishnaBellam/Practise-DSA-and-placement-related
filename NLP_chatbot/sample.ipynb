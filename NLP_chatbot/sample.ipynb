{
 "cells": [
  {
   "cell_type": "code",
   "execution_count": 4,
   "metadata": {},
   "outputs": [],
   "source": [
    "def dec2bin(num):\n",
    "    res = bin(num).replace(\"0b\", \"\")\n",
    "    if(len(res) % 4 != 0):\n",
    "        div = len(res) / 4\n",
    "        div = int(div)\n",
    "        counter = (4 * (div + 1)) - len(res)\n",
    "        for i in range(0, counter):\n",
    "            res = '0' + res\n",
    "    return res"
   ]
  },
  {
   "cell_type": "code",
   "execution_count": 5,
   "metadata": {},
   "outputs": [],
   "source": [
    "dec2bin(2525252525252525252)\n",
    "num = 2525252525252525252"
   ]
  },
  {
   "cell_type": "code",
   "execution_count": 32,
   "metadata": {},
   "outputs": [],
   "source": [
    "def bin2matrix(num):\n",
    "    binary = dec2bin(num)\n",
    "    bin_lst = []\n",
    "    for i in range(len(binary)):\n",
    "        if i%8==0:\n",
    "            lst = [binary[i] for i in range(i, i+8)]\n",
    "            bin_lst.append(lst)\n",
    "    print(bin_lst)\n",
    "    return bin_lst"
   ]
  },
  {
   "cell_type": "code",
   "execution_count": 33,
   "metadata": {},
   "outputs": [
    {
     "name": "stdout",
     "output_type": "stream",
     "text": [
      "[['0', '0', '1', '0', '0', '0', '1', '1'], ['0', '0', '0', '0', '1', '0', '1', '1'], ['0', '1', '1', '1', '1', '1', '1', '1'], ['1', '1', '0', '0', '1', '0', '1', '0'], ['1', '1', '0', '1', '0', '1', '1', '1'], ['1', '1', '0', '1', '0', '1', '0', '1'], ['1', '0', '1', '1', '1', '1', '0', '0'], ['1', '1', '0', '0', '0', '1', '0', '0']]\n"
     ]
    }
   ],
   "source": [
    "inp_matrix = bin2matrix(num)"
   ]
  },
  {
   "cell_type": "code",
   "execution_count": 25,
   "metadata": {},
   "outputs": [],
   "source": [
    "def transpose(matrix):\n",
    "    for i in range(len(matrix)):\n",
    "        for j in range(i+1,len(matrix)):\n",
    "            matrix[i][j], matrix[j][i] = matrix[j][i],matrix[i][j]\n",
    "    return matrix\n"
   ]
  },
  {
   "cell_type": "code",
   "execution_count": 34,
   "metadata": {},
   "outputs": [],
   "source": [
    "# import numpy as np\n",
    "def ini_perm(inp_matrix):\n",
    "    matrix_transpose = transpose(inp_matrix)\n",
    "    new_matrix = []\n",
    "    for i in range(len(matrix_transpose)):\n",
    "        if i%2==0:\n",
    "            new_matrix.append(matrix_transpose[i][::-1])\n",
    "        continue\n",
    "    for i in range(len(matrix_transpose)):\n",
    "        if i%2!=0:\n",
    "            new_matrix.append(matrix_transpose[i][::-1])\n",
    "        continue\n",
    "\n",
    "\n",
    "    return new_matrix"
   ]
  },
  {
   "cell_type": "code",
   "execution_count": 35,
   "metadata": {},
   "outputs": [
    {
     "data": {
      "text/plain": [
       "[['1', '1', '1', '1', '1', '0', '0', '0'],\n",
       " ['0', '1', '0', '0', '0', '1', '0', '1'],\n",
       " ['0', '1', '0', '0', '1', '1', '1', '0'],\n",
       " ['0', '0', '0', '1', '1', '1', '1', '1'],\n",
       " ['1', '0', '1', '1', '1', '1', '0', '0'],\n",
       " ['0', '1', '1', '1', '0', '1', '0', '0'],\n",
       " ['1', '1', '1', '1', '0', '1', '0', '0'],\n",
       " ['0', '0', '1', '1', '0', '1', '1', '1']]"
      ]
     },
     "execution_count": 35,
     "metadata": {},
     "output_type": "execute_result"
    }
   ],
   "source": [
    "ini_perm(inp_matrix)"
   ]
  },
  {
   "cell_type": "code",
   "execution_count": null,
   "metadata": {},
   "outputs": [],
   "source": []
  }
 ],
 "metadata": {
  "kernelspec": {
   "display_name": "Python 3",
   "language": "python",
   "name": "python3"
  },
  "language_info": {
   "codemirror_mode": {
    "name": "ipython",
    "version": 3
   },
   "file_extension": ".py",
   "mimetype": "text/x-python",
   "name": "python",
   "nbconvert_exporter": "python",
   "pygments_lexer": "ipython3",
   "version": "3.11.9"
  }
 },
 "nbformat": 4,
 "nbformat_minor": 2
}
