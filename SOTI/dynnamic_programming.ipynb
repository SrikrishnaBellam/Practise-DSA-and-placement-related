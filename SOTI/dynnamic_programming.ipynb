{
 "cells": [
  {
   "cell_type": "code",
   "execution_count": 3,
   "metadata": {},
   "outputs": [],
   "source": [
    "def knapsack(W, wt, val, n):\n",
    "    dp = [[0]*(W+1) for _ in range(n+1)]\n",
    "\n",
    "    for i in range(n+1):\n",
    "        for w in range(W+1):\n",
    "            if i==0 or w==0:\n",
    "                dp[i][w] = 0\n",
    "            elif wt[i-1] <= w:\n",
    "                dp[i][w] = max(val[i-1] + dp[i-1][w-wt[i-1]],dp[i-1][w])\n",
    "            else:\n",
    "                dp[i][w] = dp[i-1][w]\n",
    "    return dp[n][W]"
   ]
  },
  {
   "cell_type": "code",
   "execution_count": 4,
   "metadata": {},
   "outputs": [],
   "source": [
    "def lcs(X,Y):\n",
    "    m,n = len(X), len(Y)\n",
    "\n",
    "    dp = [[0]*(n+1) for _ in range(m+1)]\n",
    "    for i in range(1,m+1):\n",
    "        for j in range(1, n+1):\n",
    "            if X[i-1] == Y[j-1]:\n",
    "                dp[i][j] = dp[i-1][j-1] + 1\n",
    "            else:\n",
    "                dp[i][j] = max(dp[i-1][j], dp[i][j-1])\n",
    "    return dp[m][n]"
   ]
  },
  {
   "cell_type": "code",
   "execution_count": null,
   "metadata": {},
   "outputs": [],
   "source": [
    "def coin_change(coins, amt):\n",
    "    dp = [0]*(amt+1)\n",
    "    dp[0] = 1\n",
    "\n",
    "    for coin in coins:\n",
    "        for x in range(coin, amt+1):\n",
    "            dp[x] += dp[x-coin]\n",
    "    return dp[amt]"
   ]
  },
  {
   "cell_type": "code",
   "execution_count": 5,
   "metadata": {},
   "outputs": [],
   "source": [
    "def printSubStr(st, low, high):\n",
    "    print((st[low:high+1]))\n",
    "\n",
    "def longestPalSubstr(st):\n",
    "    n = len(st)\n",
    "    table = [[0]*n for _ in range(n)]\n",
    "\n",
    "    maxLen = 1\n",
    "    i = 0\n",
    "    while(i<n):\n",
    "        table[i][i] = True\n",
    "        i += 1\n",
    "\n",
    "    start = 0\n",
    "    i = 0\n",
    "    while (i < n-1):\n",
    "        if(st[i] == st[i+1]):\n",
    "            table[i][i+1] = True\n",
    "            start = i\n",
    "            maxLen = 2\n",
    "        i = i + 1\n",
    "\n",
    "    k = 3\n",
    "    while k <= n:\n",
    "        i = 0\n",
    "        while i < (n-k+1):\n",
    "            j = i + k - 1\n",
    "            if (table[i+1][j-1] and st[i] == st[j]):\n",
    "                table[i][j] = True\n",
    "                if k > maxLen:\n",
    "                    start = i\n",
    "                    maxLen = k\n",
    "            i += 1\n",
    "        k += 1\n",
    "    print(\"longest palindrome: \", end=\"\")\n",
    "    printSubStr(st, start, start + maxLen - 1)"
   ]
  },
  {
   "cell_type": "code",
   "execution_count": 7,
   "metadata": {},
   "outputs": [
    {
     "name": "stdout",
     "output_type": "stream",
     "text": [
      "longest palindrome: bb\n"
     ]
    }
   ],
   "source": [
    "st = \"cbbd\"\n",
    "l = longestPalSubstr(st)\n",
    "# print(\"Length is:\", l)"
   ]
  },
  {
   "cell_type": "code",
   "execution_count": null,
   "metadata": {},
   "outputs": [],
   "source": []
  }
 ],
 "metadata": {
  "kernelspec": {
   "display_name": "Python 3",
   "language": "python",
   "name": "python3"
  },
  "language_info": {
   "codemirror_mode": {
    "name": "ipython",
    "version": 3
   },
   "file_extension": ".py",
   "mimetype": "text/x-python",
   "name": "python",
   "nbconvert_exporter": "python",
   "pygments_lexer": "ipython3",
   "version": "3.10.11"
  }
 },
 "nbformat": 4,
 "nbformat_minor": 2
}
