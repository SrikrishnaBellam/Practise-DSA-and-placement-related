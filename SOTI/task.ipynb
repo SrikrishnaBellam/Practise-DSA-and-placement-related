{
 "cells": [
  {
   "cell_type": "code",
   "execution_count": 13,
   "metadata": {},
   "outputs": [],
   "source": [
    "n = str(input())\n",
    "char = str(input())\n",
    "\n",
    "def count_char(n,char):\n",
    "    ct = 0\n",
    "    # ct = [ct+=1 for i in n if i==char]\n",
    "    for i in n:\n",
    "        if i == char:\n",
    "            ct += 1\n",
    "    print(ct)"
   ]
  },
  {
   "cell_type": "code",
   "execution_count": 14,
   "metadata": {},
   "outputs": [
    {
     "name": "stdout",
     "output_type": "stream",
     "text": [
      "2\n"
     ]
    }
   ],
   "source": [
    "count_char(n,char)"
   ]
  },
  {
   "cell_type": "code",
   "execution_count": 18,
   "metadata": {},
   "outputs": [],
   "source": [
    "def balls8(arr):\n",
    "    lst1, lst2, lst3 = arr[:3], arr[3:6], arr[6:]\n",
    "    wt1, wt2, wt3 = sum(lst1), sum(lst2), sum(lst3)\n",
    "    \n",
    "    if wt1 < wt2 and wt1 < wt3:\n",
    "        \n",
    "    elif wt2 < wt1 and wt2 < wt3:\n",
    "        return min(lst2)\n",
    "    else:\n",
    "        return min(lst3)"
   ]
  },
  {
   "cell_type": "code",
   "execution_count": 19,
   "metadata": {},
   "outputs": [
    {
     "data": {
      "text/plain": [
       "0.5"
      ]
     },
     "execution_count": 19,
     "metadata": {},
     "output_type": "execute_result"
    }
   ],
   "source": [
    "balls8([1,1,1,1,1,1,1,0.5])"
   ]
  },
  {
   "cell_type": "code",
   "execution_count": 26,
   "metadata": {},
   "outputs": [
    {
     "name": "stdout",
     "output_type": "stream",
     "text": [
      "The outlier ball is: 2, and it is heavier.\n",
      "The outlier ball is: 1, and it is heavier.\n"
     ]
    }
   ],
   "source": [
    "def weigh(group1, group2):\n",
    "    \"\"\"Simulate weighing two groups of balls on a balance scale.\"\"\"\n",
    "    weight1 = sum(group1)\n",
    "    weight2 = sum(group2)\n",
    "    \n",
    "    if weight1 < weight2:\n",
    "        return -1  # Group 1 is lighter\n",
    "    elif weight1 > weight2:\n",
    "        return 1   # Group 1 is heavier\n",
    "    else:\n",
    "        return 0   # Groups are equal\n",
    "\n",
    "def find_outlier_ball(balls):\n",
    "    # Divide balls into three groups\n",
    "    groupA = balls[:3]\n",
    "    groupB = balls[3:6]\n",
    "    groupC = balls[6:]\n",
    "\n",
    "    # First weighing: Compare groupA and groupB\n",
    "    result = weigh(groupA, groupB)\n",
    "    \n",
    "    if result == 0:\n",
    "        # If groupA == groupB, the outlier is in groupC\n",
    "        if weigh([groupC[0]], [groupC[1]]) == 0:\n",
    "            return None, \"No outlier found. This should not happen with valid input.\"\n",
    "        else:\n",
    "            heavier_ball = groupC[0] if weigh([groupC[0]], [groupC[1]]) == 1 else groupC[1]\n",
    "            return heavier_ball, \"heavier\" if sum(groupA) + heavier_ball > sum(groupA) else \"lighter\"\n",
    "    else:\n",
    "        # Determine which group is heavier or lighter\n",
    "        if result == 1:\n",
    "            heavier_group, lighter_group = groupA, groupB\n",
    "        else:\n",
    "            heavier_group, lighter_group = groupB, groupA\n",
    "\n",
    "        # Compare two balls from the heavier group to find the outlier\n",
    "        result2 = weigh([heavier_group[0]], [heavier_group[1]])\n",
    "        if result2 == 0:\n",
    "            outlier_ball = heavier_group[2]\n",
    "            status = \"heavier\" if weigh([outlier_ball], [lighter_group[0]]) == 1 else \"lighter\"\n",
    "            return outlier_ball, status\n",
    "        else:\n",
    "            outlier_ball = heavier_group[0] if result2 == 1 else heavier_group[1]\n",
    "            status = \"heavier\" if weigh([outlier_ball], [lighter_group[0]]) == 1 else \"lighter\"\n",
    "            return outlier_ball, status\n",
    "\n",
    "# Test the function with a set of balls\n",
    "# Represent balls with weights, where all normal balls have the same weight (e.g., 1)\n",
    "# and one ball has a different weight (e.g., 2 for heavier or 0.5 for lighter)\n",
    "\n",
    "balls = [1, 1, 1, 1, 1, 1, 2, 1]  # Example with one heavier ball\n",
    "outlier_ball, status = find_outlier_ball(balls)\n",
    "print(f\"The outlier ball is: {outlier_ball}, and it is {status}.\")\n",
    "\n",
    "balls = [1, 1, 1, 1, 1, 1, 0.5, 1]  # Example with one lighter ball\n",
    "outlier_ball, status = find_outlier_ball(balls)\n",
    "print(f\"The outlier ball is: {outlier_ball}, and it is {status}.\")\n"
   ]
  },
  {
   "cell_type": "code",
   "execution_count": 25,
   "metadata": {},
   "outputs": [],
   "source": [
    "def compare(arr1, arr2):\n",
    "    weight1, weight2 = sum(arr1), aum(arr2)\n",
    "    if weight1 > weight2:\n",
    "        return 1\n",
    "    elif weight2 > weight1:\n",
    "        return -1\n",
    "    else:\n",
    "        return 0"
   ]
  },
  {
   "cell_type": "code",
   "execution_count": null,
   "metadata": {},
   "outputs": [],
   "source": [
    "def ball8(arr):\n",
    "    arr1 = arr[:3]\n",
    "    arr2 = arr[3:6]\n",
    "    arr3 = arr[6:]\n",
    "\n",
    "    res = compare(arr1, arr3)\n",
    "\n",
    "    if res==0:\n",
    "        if compare(arr3[0], arr3[1]) == 0:\n",
    "            return \"invalid input\"\n",
    "        else:\n",
    "            "
   ]
  },
  {
   "cell_type": "code",
   "execution_count": 28,
   "metadata": {},
   "outputs": [
    {
     "name": "stdout",
     "output_type": "stream",
     "text": [
      "The outlier ball index is: 6.\n",
      "The outlier ball index is: 7.\n"
     ]
    }
   ],
   "source": [
    "def weigh(group1, group2):\n",
    "    \"\"\"Simulate weighing two groups of balls on a balance scale.\"\"\"\n",
    "    weight1 = sum(group1)\n",
    "    weight2 = sum(group2)\n",
    "    \n",
    "    if weight1 < weight2:\n",
    "        return -1  # Group 1 is lighter\n",
    "    elif weight1 > weight2:\n",
    "        return 1   # Group 1 is heavier\n",
    "    else:\n",
    "        return 0   # Groups are equal\n",
    "\n",
    "def find_outlier_ball(balls):\n",
    "    # Divide balls into three groups\n",
    "    groupA_indices = [0, 1, 2]\n",
    "    groupB_indices = [3, 4, 5]\n",
    "    groupC_indices = [6, 7]\n",
    "\n",
    "    groupA = [balls[i] for i in groupA_indices]\n",
    "    groupB = [balls[i] for i in groupB_indices]\n",
    "    groupC = [balls[i] for i in groupC_indices]\n",
    "\n",
    "    # First weighing: Compare groupA and groupB\n",
    "    result = weigh(groupA, groupB)\n",
    "    \n",
    "    if result == 0:\n",
    "        # If groupA == groupB, the outlier is in groupC\n",
    "        if weigh([groupC[0]], [groupC[1]]) == 0:\n",
    "            return None  # This should not happen with valid input\n",
    "        else:\n",
    "            outlier_index = groupC_indices[0] if weigh([groupC[0]], [groupC[1]]) == 1 else groupC_indices[1]\n",
    "            return outlier_index\n",
    "    else:\n",
    "        # Determine which group is heavier or lighter\n",
    "        if result == 1:\n",
    "            heavier_group_indices, lighter_group_indices = groupA_indices, groupB_indices\n",
    "        else:\n",
    "            heavier_group_indices, lighter_group_indices = groupB_indices, groupA_indices\n",
    "\n",
    "        heavier_group = [balls[i] for i in heavier_group_indices]\n",
    "        lighter_group = [balls[i] for i in lighter_group_indices]\n",
    "\n",
    "        # Compare two balls from the heavier group to find the outlier\n",
    "        result2 = weigh([heavier_group[0]], [heavier_group[1]])\n",
    "        if result2 == 0:\n",
    "            outlier_index = heavier_group_indices[2]\n",
    "            return outlier_index\n",
    "        else:\n",
    "            outlier_index = heavier_group_indices[0] if result2 == 1 else heavier_group_indices[1]\n",
    "            return outlier_index\n",
    "\n",
    "# Test the function with a set of balls\n",
    "# Represent balls with weights, where all normal balls have the same weight (e.g., 1)\n",
    "# and one ball has a different weight (e.g., 2 for heavier or 0.5 for lighter)\n",
    "\n",
    "balls = [1, 1, 1, 1, 1, 1, 2, 1]  # Example with one heavier ball\n",
    "outlier_index = find_outlier_ball(balls)\n",
    "print(f\"The outlier ball index is: {outlier_index}.\")\n",
    "\n",
    "balls = [1, 1, 1, 1, 1, 1, 0.5, 1]  # Example with one lighter ball\n",
    "outlier_index = find_outlier_ball(balls)\n",
    "print(f\"The outlier ball index is: {outlier_index}.\")\n"
   ]
  },
  {
   "cell_type": "code",
   "execution_count": 1,
   "metadata": {},
   "outputs": [
    {
     "name": "stdout",
     "output_type": "stream",
     "text": [
      "6\n"
     ]
    }
   ],
   "source": [
    "# Longest increasing subsequence\n",
    "\n",
    "def lis(arr):\n",
    "    n = len(arr)\n",
    "    lis = [1] * n\n",
    "    for i in range(1, n):\n",
    "        for j in range(0,i):\n",
    "            if arr[i] > arr[j] and lis[i] < lis[j] + 1:\n",
    "                lis[i] = lis[j] + 1\n",
    "    return max(lis)\n",
    "\n",
    "# Example usage\n",
    "arr = [10, 22, 9, 33, 21, 50, 41, 60, 80]\n",
    "print(lis(arr))  # Output: 6"
   ]
  },
  {
   "cell_type": "code",
   "execution_count": null,
   "metadata": {},
   "outputs": [],
   "source": [
    "def lcs(X,Y):\n",
    "    m, n = len(X), len(Y)\n",
    "\n",
    "    dp = [[0]*(n+1) for _ in range(m+1)]\n",
    "    for i in range(1,m+1):\n",
    "        for j in range(1,n+1):\n",
    "            if X[i-1] == Y[j-1]:\n",
    "                dp[i][j] = dp[i-1][j-1] + 1\n",
    "            else:\n",
    "                dp[i][j] = max(dp[i-1][j], dp[i][j-1])\n",
    "    return dp[m][n]\n",
    "\n",
    "X = \"AGGTAB\"\n",
    "Y = \"GXTXAYB\"\n",
    "print(lcs(X, Y))  # Output: 4"
   ]
  },
  {
   "cell_type": "code",
   "execution_count": null,
   "metadata": {},
   "outputs": [],
   "source": [
    "def validParanthesis(arr):\n",
    "    "
   ]
  }
 ],
 "metadata": {
  "kernelspec": {
   "display_name": "Python 3",
   "language": "python",
   "name": "python3"
  },
  "language_info": {
   "codemirror_mode": {
    "name": "ipython",
    "version": 3
   },
   "file_extension": ".py",
   "mimetype": "text/x-python",
   "name": "python",
   "nbconvert_exporter": "python",
   "pygments_lexer": "ipython3",
   "version": "3.11.9"
  }
 },
 "nbformat": 4,
 "nbformat_minor": 2
}
