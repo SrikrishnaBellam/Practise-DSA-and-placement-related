{
 "cells": [
  {
   "cell_type": "markdown",
   "metadata": {},
   "source": [
    "## Linear Search"
   ]
  },
  {
   "cell_type": "code",
   "execution_count": 24,
   "metadata": {},
   "outputs": [],
   "source": [
    "lst = [x for x in range(1,100001)]\n",
    "\n",
    "def linear_search(list,val):\n",
    "    for i in range(len(list)):\n",
    "        if list[i]==val:\n",
    "            print(\"{} found at location {}\".format(val, i))\n",
    "            break"
   ]
  },
  {
   "cell_type": "code",
   "execution_count": 16,
   "metadata": {},
   "outputs": [
    {
     "name": "stdout",
     "output_type": "stream",
     "text": [
      "9999 found at location 9998\n"
     ]
    }
   ],
   "source": [
    "linear_search(lst, 9999)"
   ]
  },
  {
   "cell_type": "markdown",
   "metadata": {},
   "source": [
    "## Binary Search"
   ]
  },
  {
   "cell_type": "code",
   "execution_count": 34,
   "metadata": {},
   "outputs": [],
   "source": [
    "def binarySearch(sorted_array,val_searched):\n",
    "    n = len(sorted_array)\n",
    "    a = sorted_array\n",
    "    x = val_searched\n",
    "    flag = False\n",
    "    lowerBound = 0\n",
    "    upperBound = n\n",
    "\n",
    "    while (flag!=True):\n",
    "        if upperBound < lowerBound:\n",
    "            flag = True\n",
    "            return \"does not exist\"\n",
    "        midPoint = int(lowerBound + (upperBound-lowerBound)/2)\n",
    "        if a[midPoint]<x:\n",
    "            lowerBound = midPoint+1\n",
    "        if a[midPoint]>x:\n",
    "            upperBound = midPoint - 1\n",
    "        if a[midPoint]==x:\n",
    "            flag=True\n",
    "            return \"{} found at location {}\".format(x, midPoint)"
   ]
  },
  {
   "cell_type": "code",
   "execution_count": 35,
   "metadata": {},
   "outputs": [
    {
     "data": {
      "text/plain": [
       "'1 found at location 0'"
      ]
     },
     "execution_count": 35,
     "metadata": {},
     "output_type": "execute_result"
    }
   ],
   "source": [
    "binarySearch(lst, 1)"
   ]
  },
  {
   "cell_type": "markdown",
   "metadata": {},
   "source": [
    "## InsertionSort"
   ]
  },
  {
   "cell_type": "code",
   "execution_count": 44,
   "metadata": {},
   "outputs": [],
   "source": [
    "def insertionSort(array):\n",
    "    holePosition = 0\n",
    "    value_to_insert = 0\n",
    "\n",
    "    for i in range(len(array)):\n",
    "        value_to_insert = array[i]\n",
    "        # print(\"value to insert: {}\".format(value_to_insert))\n",
    "        holePosition = i\n",
    "        # print(\"holeposition: {}\".format(holePosition))\n",
    "\n",
    "        while holePosition>0 and array[holePosition-1]>value_to_insert:\n",
    "            array[holePosition] = array[holePosition - 1]\n",
    "            # print(\"array[holeposition]: {}\".format(array[holePosition]))\n",
    "            holePosition = holePosition - 1\n",
    "        array[holePosition] = value_to_insert\n",
    "    \n",
    "    return array"
   ]
  },
  {
   "cell_type": "code",
   "execution_count": 45,
   "metadata": {},
   "outputs": [
    {
     "data": {
      "text/plain": [
       "[1, 2, 3, 5, 6, 6, 22, 45, 95, 99, 100]"
      ]
     },
     "execution_count": 45,
     "metadata": {},
     "output_type": "execute_result"
    }
   ],
   "source": [
    "array = [1,5,3,6,2,6,22,100,99,95,45]\n",
    "\n",
    "arr = insertionSort(array=array)\n",
    "arr"
   ]
  },
  {
   "cell_type": "markdown",
   "metadata": {},
   "source": [
    "## Bubble Sort"
   ]
  },
  {
   "cell_type": "code",
   "execution_count": 46,
   "metadata": {},
   "outputs": [],
   "source": [
    "def bubbleSort(array):\n",
    "    Loop = len(array)\n",
    "    for i in range(Loop-1):\n",
    "        swapped = False\n",
    "        for j in range(Loop-1):\n",
    "            if array[j]>array[j+1]:\n",
    "                array[j], array[j+1] = array[j+1], array[j]\n",
    "                swapped = True\n",
    "        if (swapped != True):\n",
    "            break\n",
    "    return array"
   ]
  },
  {
   "cell_type": "code",
   "execution_count": 48,
   "metadata": {},
   "outputs": [
    {
     "data": {
      "text/plain": [
       "[1, 2, 3, 5, 6, 6, 22, 45, 95, 99, 100]"
      ]
     },
     "execution_count": 48,
     "metadata": {},
     "output_type": "execute_result"
    }
   ],
   "source": [
    "array = [1,5,3,6,2,6,22,100,99,95,45]\n",
    "\n",
    "arr = bubbleSort(array)\n",
    "arr"
   ]
  },
  {
   "cell_type": "markdown",
   "metadata": {},
   "source": [
    "## Selection Sort"
   ]
  },
  {
   "cell_type": "code",
   "execution_count": 51,
   "metadata": {},
   "outputs": [],
   "source": [
    "def selectionSort(array):\n",
    "    n = len(array)\n",
    "    for i in range(n-1):\n",
    "        Min = i\n",
    "        for j in range(i+1, n):\n",
    "            if array[j]<array[i]:\n",
    "                Min = j\n",
    "        \n",
    "        if Min != i:\n",
    "            array[Min], array[i] = array[i], array[Min]\n",
    "    return array"
   ]
  },
  {
   "cell_type": "code",
   "execution_count": 52,
   "metadata": {},
   "outputs": [
    {
     "data": {
      "text/plain": [
       "[1, 2, 3, 5, 6, 6, 22, 45, 95, 99, 100]"
      ]
     },
     "execution_count": 52,
     "metadata": {},
     "output_type": "execute_result"
    }
   ],
   "source": [
    "array = [1,5,3,6,2,6,22,100,99,95,45]\n",
    "\n",
    "arr = selectionSort(array)\n",
    "arr"
   ]
  },
  {
   "cell_type": "code",
   "execution_count": null,
   "metadata": {},
   "outputs": [],
   "source": [
    "def rearrangeString(st):\n",
    "    lst = list(st)\n",
    "    first = 0\n",
    "    second = 1\n",
    "    n = len(lst)\n",
    "    for i in range(n):\n",
    "        if second!=n and (lst[first] != lst[second]):\n",
    "            second += 1\n",
    "        if second != n and lst[first] != lst[second]:\n",
    "            lst[first+1], lst[second] = lst[second], lst[first+1]\n",
    "            first += 2\n",
    "            second += 1\n",
    "    \n",
    "    st = ''.join(lst)\n",
    "    if st[-1] == st[-2]:\n",
    "        return '-'\n",
    "    else:\n",
    "        return st"
   ]
  }
 ],
 "metadata": {
  "kernelspec": {
   "display_name": "venv",
   "language": "python",
   "name": "python3"
  },
  "language_info": {
   "codemirror_mode": {
    "name": "ipython",
    "version": 3
   },
   "file_extension": ".py",
   "mimetype": "text/x-python",
   "name": "python",
   "nbconvert_exporter": "python",
   "pygments_lexer": "ipython3",
   "version": "3.11.7"
  }
 },
 "nbformat": 4,
 "nbformat_minor": 2
}
