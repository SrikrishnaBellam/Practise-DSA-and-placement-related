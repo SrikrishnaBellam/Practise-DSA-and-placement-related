{
 "cells": [
  {
   "cell_type": "code",
   "execution_count": 11,
   "metadata": {},
   "outputs": [],
   "source": [
    "class Node:\n",
    "    def __init__(self, data):\n",
    "        self.data = data\n",
    "        self.next = None"
   ]
  },
  {
   "cell_type": "code",
   "execution_count": 17,
   "metadata": {},
   "outputs": [],
   "source": [
    "class LinkedList:\n",
    "    def __init__(self):\n",
    "        self.head = None\n",
    "\n",
    "    #pushes the element at the head\n",
    "    def pushAtHead(self, data):\n",
    "        data = Node(data)\n",
    "        data.next = self.head\n",
    "        self.head = data\n",
    "\n",
    "    #print the elements of a SLL\n",
    "    def print_list(self):\n",
    "        curr = self.head\n",
    "        while curr:\n",
    "            print(curr.data, end='->')\n",
    "            curr = curr.next\n",
    "    \n",
    "    #deletes the first element\n",
    "    def delete_at_head(self):\n",
    "        curr = self.head\n",
    "        self.head = curr.next\n",
    "\n",
    "    #append the element at the end\n",
    "    def append(self, data):\n",
    "        data = Node(data)\n",
    "        curr = self.head\n",
    "        while curr.next!=None:\n",
    "            curr = curr.next\n",
    "        curr.next = data\n",
    "        data.next = None\n",
    "\n",
    "    #Delete at end\n",
    "    def delete_at_end(self):\n",
    "        #method - 1\n",
    "        # curr = self.head\n",
    "        # while curr.next.next!=None:\n",
    "        #     curr = curr.next\n",
    "        # curr.next = None\n",
    "        #\n",
    "        # method-2\n",
    "        prev = self.head\n",
    "        curr = self.head.next\n",
    "        while curr.next!=None:\n",
    "            prev = prev.next\n",
    "            curr = curr.next\n",
    "        prev.next = None\n"
   ]
  },
  {
   "cell_type": "code",
   "execution_count": 18,
   "metadata": {},
   "outputs": [],
   "source": [
    "ll = LinkedList()"
   ]
  },
  {
   "cell_type": "code",
   "execution_count": 19,
   "metadata": {},
   "outputs": [],
   "source": [
    "ll.pushAtHead(5)\n",
    "ll.pushAtHead(10)"
   ]
  },
  {
   "cell_type": "code",
   "execution_count": 20,
   "metadata": {},
   "outputs": [],
   "source": [
    "ll.append(100)\n",
    "ll.append(105)"
   ]
  },
  {
   "cell_type": "code",
   "execution_count": 21,
   "metadata": {},
   "outputs": [
    {
     "name": "stdout",
     "output_type": "stream",
     "text": [
      "10->5->100->105->"
     ]
    }
   ],
   "source": [
    "ll.print_list()"
   ]
  },
  {
   "cell_type": "code",
   "execution_count": 22,
   "metadata": {},
   "outputs": [],
   "source": [
    "ll.delete_at_end()"
   ]
  },
  {
   "cell_type": "code",
   "execution_count": 23,
   "metadata": {},
   "outputs": [],
   "source": [
    "ll.delete_at_head()"
   ]
  },
  {
   "cell_type": "code",
   "execution_count": 24,
   "metadata": {},
   "outputs": [
    {
     "name": "stdout",
     "output_type": "stream",
     "text": [
      "5->100->"
     ]
    }
   ],
   "source": [
    "ll.print_list()"
   ]
  },
  {
   "cell_type": "markdown",
   "metadata": {},
   "source": [
    "Add two Numbers"
   ]
  },
  {
   "cell_type": "code",
   "execution_count": 25,
   "metadata": {},
   "outputs": [
    {
     "ename": "NameError",
     "evalue": "name 'l1' is not defined",
     "output_type": "error",
     "traceback": [
      "\u001b[1;31m---------------------------------------------------------------------------\u001b[0m",
      "\u001b[1;31mNameError\u001b[0m                                 Traceback (most recent call last)",
      "Cell \u001b[1;32mIn[25], line 3\u001b[0m\n\u001b[0;32m      1\u001b[0m lst1 \u001b[38;5;241m=\u001b[39m []\n\u001b[0;32m      2\u001b[0m lst2 \u001b[38;5;241m=\u001b[39m []\n\u001b[1;32m----> 3\u001b[0m \u001b[38;5;28;01mwhile\u001b[39;00m(\u001b[43ml1\u001b[49m \u001b[38;5;129;01mor\u001b[39;00m l2):\n\u001b[0;32m      4\u001b[0m     \u001b[38;5;28;01mif\u001b[39;00m l1:\n\u001b[0;32m      5\u001b[0m         lst1\u001b[38;5;241m.\u001b[39mappend(\u001b[38;5;28mstr\u001b[39m(l1\u001b[38;5;241m.\u001b[39mval))\n",
      "\u001b[1;31mNameError\u001b[0m: name 'l1' is not defined"
     ]
    }
   ],
   "source": [
    "lst1 = []\n",
    "lst2 = []\n",
    "while(l1 or l2):\n",
    "    if l1:\n",
    "        lst1.append(str(l1.val))\n",
    "        l1 = l1.next\n",
    "    if l2:\n",
    "        lst2.append(str(l2.val))\n",
    "        l2 = l2.next\n",
    "num1 = int(''.join(lst1[::-1]))\n",
    "num2 = int(''.join(lst2[::-1]))\n",
    "sm = str(num1 + num2)\n",
    "head = ListNode(sm[-1])\n",
    "curr = head\n",
    "for i in sm[-2::-1]:\n",
    "    curr.next = ListNode(i)\n",
    "    curr = curr.next\n",
    "return head"
   ]
  },
  {
   "cell_type": "code",
   "execution_count": null,
   "metadata": {},
   "outputs": [
    {
     "name": "stdout",
     "output_type": "stream",
     "text": [
      "[3, 2, 1]\n"
     ]
    }
   ],
   "source": [
    "lst = [1,2,3]\n",
    "print(lst[::-1])"
   ]
  },
  {
   "cell_type": "markdown",
   "metadata": {},
   "source": [
    "# merge two sorted array"
   ]
  },
  {
   "cell_type": "code",
   "execution_count": 26,
   "metadata": {},
   "outputs": [
    {
     "ename": "NameError",
     "evalue": "name 'ListNode' is not defined",
     "output_type": "error",
     "traceback": [
      "\u001b[1;31m---------------------------------------------------------------------------\u001b[0m",
      "\u001b[1;31mNameError\u001b[0m                                 Traceback (most recent call last)",
      "Cell \u001b[1;32mIn[26], line 1\u001b[0m\n\u001b[1;32m----> 1\u001b[0m p \u001b[38;5;241m=\u001b[39m \u001b[43mListNode\u001b[49m()\n\u001b[0;32m      2\u001b[0m curr \u001b[38;5;241m=\u001b[39m p\n\u001b[0;32m      3\u001b[0m \u001b[38;5;28;01mwhile\u001b[39;00m list1 \u001b[38;5;129;01mand\u001b[39;00m list2:\n",
      "\u001b[1;31mNameError\u001b[0m: name 'ListNode' is not defined"
     ]
    }
   ],
   "source": [
    "p = ListNode()\n",
    "curr = p\n",
    "while list1 and list2:\n",
    "    if list1.val<=list2.val:\n",
    "        curr.next = list1\n",
    "        list1 = list1.next\n",
    "    else:\n",
    "        curr.next = list2\n",
    "        list2 = list2.next\n",
    "    curr = curr.next\n",
    "curr.next = list1 or list2\n",
    "return p.next"
   ]
  },
  {
   "cell_type": "markdown",
   "metadata": {},
   "source": [
    "# Doubly Linked List"
   ]
  },
  {
   "cell_type": "code",
   "execution_count": 27,
   "metadata": {},
   "outputs": [],
   "source": [
    "class Node:\n",
    "    def __init__(self, data):\n",
    "        self.data = data\n",
    "        self.next = None\n",
    "        self.prev = None"
   ]
  },
  {
   "cell_type": "code",
   "execution_count": 28,
   "metadata": {},
   "outputs": [],
   "source": [
    "class doublt_linked_list:\n",
    "    def __init__(self):\n",
    "        self.head = None\n",
    "\n",
    "    def push(self, new_val):\n",
    "        val = Node(new_val)\n",
    "        if self.head is None:\n",
    "            self.head = val\n",
    "            return \n",
    "        self.head.prev = val\n",
    "        val.next = self.head\n",
    "        self.head = val\n",
    "        val.prev = None\n",
    "    \n",
    "    def del_at_begin(self):\n",
    "        if self.head is None:\n",
    "            print(\"List is empty\")\n",
    "            return \n",
    "        if self.head.next is None:\n",
    "            self.head = None\n",
    "            return\n",
    "        self.head = self.head.next\n",
    "        self.head.prev = None\n",
    "    \n",
    "    def insertAfter(self, prev_node, newVal):\n",
    "        if prev_node is None:\n",
    "            return\n",
    "        newNode = Node(newVal)\n",
    "        newNode.next = prev_node.next\n",
    "        prev_node.next = newNode\n",
    "        newNode.prev = prev_node\n",
    "        if newNode.next is not None:\n",
    "            newNode.next.prev = newNode\n",
    "    \n",
    "    def insertBefore(self, next_node, new_Data):\n",
    "        if next_node is None:\n",
    "            print(\"The node doesnt exist in DLL\")\n",
    "            return \n",
    "        new_node = Node(new_Data)\n",
    "        new_node.prev = next_node.prev\n",
    "        next_node.prev = new_node\n",
    "        new_node.next = next_node\n",
    "\n",
    "        if new_node.prev is not None:\n",
    "            new_node.prev.next = new_node\n",
    "        else:\n",
    "            head = new_node\n",
    "    \n",
    "    def append(self, new_data):\n",
    "        new_node = Node(new_data)\n",
    "        last = self.head\n",
    "        new_node.next = None\n",
    "        \n",
    "        if self.head is None:\n",
    "            new_node.prev = None\n",
    "            self.head = new_node\n",
    "            return \n",
    "\n",
    "        while last.next is not None:\n",
    "            last = last.next\n",
    "        \n",
    "        last.next = new_node\n",
    "        new_node.prev = last\n",
    "    \n",
    "    def listprint(self):\n",
    "        curr = self.head\n",
    "        while curr:\n",
    "            print(curr.data, end=\" <=> \")\n",
    "            curr = curr.next"
   ]
  },
  {
   "cell_type": "code",
   "execution_count": 29,
   "metadata": {},
   "outputs": [
    {
     "name": "stdout",
     "output_type": "stream",
     "text": [
      "65 <=> 25 <=> 6 <=> 13 <=> 56 <=> 90 <=> 99 <=> 85 <=> "
     ]
    }
   ],
   "source": [
    "dll = doublt_linked_list()\n",
    "dll.push(56)\n",
    "dll.push(6)\n",
    "dll.push(65)\n",
    "dll.insertAfter(dll.head.next, 13)\n",
    "dll.insertBefore(dll.head.next,25)\n",
    "dll.append(90)\n",
    "dll.append(99)\n",
    "dll.append(85)\n",
    "dll.listprint()"
   ]
  },
  {
   "cell_type": "code",
   "execution_count": 30,
   "metadata": {},
   "outputs": [
    {
     "name": "stdout",
     "output_type": "stream",
     "text": [
      "25 <=> 6 <=> 13 <=> 56 <=> 90 <=> 99 <=> 85 <=> "
     ]
    }
   ],
   "source": [
    "dll.del_at_begin()\n",
    "dll.listprint()"
   ]
  },
  {
   "cell_type": "markdown",
   "metadata": {},
   "source": [
    "# DSA practise \n",
    "\n",
    "get the middle element"
   ]
  },
  {
   "cell_type": "code",
   "execution_count": 1,
   "metadata": {},
   "outputs": [],
   "source": [
    "class Node:\n",
    "    def __init__(self, data):\n",
    "        self.data = data\n",
    "        self.next = None\n",
    "        self.prev = None"
   ]
  },
  {
   "cell_type": "code",
   "execution_count": 7,
   "metadata": {},
   "outputs": [],
   "source": [
    "class DLL:\n",
    "    def __init__(self):\n",
    "        self.head = None\n",
    "        self.tail = None\n",
    "    \n",
    "    def append(self, data):\n",
    "        new_node = Node(data)\n",
    "        if self.head is None:\n",
    "            self.head = new_node\n",
    "            self.tail = new_node\n",
    "            return\n",
    "        if self.head.next is None:\n",
    "            self.head.next = new_node\n",
    "            new_node.prev = self.head\n",
    "            self.tail = new_node\n",
    "            return\n",
    "        curr = self.tail\n",
    "        curr.next = new_node\n",
    "        new_node.prev = curr\n",
    "        self.tail = new_node\n",
    "    \n",
    "    def find_mid_element(self):\n",
    "        head = self.head\n",
    "        tail = self.tail\n",
    "\n",
    "        while head is not None:\n",
    "            if head==tail:\n",
    "                return [head.data]\n",
    "            if tail.next == head:\n",
    "                return [tail.data, head.data]\n",
    "            head = head.next\n",
    "            tail = tail.prev\n",
    "    \n",
    "    def printDLL(self):\n",
    "        curr = self.head\n",
    "        while curr is not None:\n",
    "            print(curr.data, end=\"<=>\")\n",
    "            curr = curr.next"
   ]
  },
  {
   "cell_type": "code",
   "execution_count": 13,
   "metadata": {},
   "outputs": [
    {
     "name": "stdout",
     "output_type": "stream",
     "text": [
      "30<=>52<=>16<=>18<=>45<=>"
     ]
    }
   ],
   "source": [
    "dll = DLL()\n",
    "\n",
    "n = int(input())\n",
    "lst = list(map(int, input().split()))\n",
    "\n",
    "for i in lst:\n",
    "    dll.append(i)\n",
    "dll.printDLL()"
   ]
  },
  {
   "cell_type": "code",
   "execution_count": 14,
   "metadata": {},
   "outputs": [
    {
     "data": {
      "text/plain": [
       "[16]"
      ]
     },
     "execution_count": 14,
     "metadata": {},
     "output_type": "execute_result"
    }
   ],
   "source": [
    "dll.find_mid_element()"
   ]
  },
  {
   "cell_type": "code",
   "execution_count": 15,
   "metadata": {},
   "outputs": [],
   "source": [
    "class SNode:\n",
    "    def __init__(self, data):\n",
    "        self.data = data\n",
    "        self.next = None"
   ]
  },
  {
   "cell_type": "code",
   "execution_count": 26,
   "metadata": {},
   "outputs": [],
   "source": [
    "class SLL:\n",
    "    def __init__(self):\n",
    "        self.head = None\n",
    "    \n",
    "    def append(self, data):\n",
    "        new_node = SNode(data)\n",
    "        if self.head is None:\n",
    "            self.head = new_node\n",
    "            return\n",
    "        curr = self.head\n",
    "        while curr.next is not None:\n",
    "            curr = curr.next\n",
    "        \n",
    "        curr.next = new_node\n",
    "    \n",
    "    def nth_element(self, posn):\n",
    "        curr = self.head\n",
    "        for i in range(1,posn):\n",
    "            curr = curr.next\n",
    "        print(curr.data)\n",
    "    \n",
    "    def printSLL(self):\n",
    "        curr = self.head\n",
    "        while curr is not None:\n",
    "            print(curr.data, end=\"->\")\n",
    "            curr = curr.next"
   ]
  },
  {
   "cell_type": "code",
   "execution_count": 27,
   "metadata": {},
   "outputs": [
    {
     "name": "stdout",
     "output_type": "stream",
     "text": [
      "12->34->89->54->67->"
     ]
    }
   ],
   "source": [
    "sll = SLL()\n",
    "\n",
    "n = int(input())\n",
    "lst = list(map(int, input().split()))\n",
    "\n",
    "for i in lst:\n",
    "    sll.append(i)\n",
    "sll.printSLL()"
   ]
  },
  {
   "cell_type": "code",
   "execution_count": 28,
   "metadata": {},
   "outputs": [
    {
     "name": "stdout",
     "output_type": "stream",
     "text": [
      "89\n"
     ]
    }
   ],
   "source": [
    "sll.nth_element(3)"
   ]
  },
  {
   "cell_type": "code",
   "execution_count": 1,
   "metadata": {},
   "outputs": [],
   "source": [
    "class Node:\n",
    "    def __init__(self,data):\n",
    "        self.data = data\n",
    "        self.next = None"
   ]
  },
  {
   "cell_type": "code",
   "execution_count": 41,
   "metadata": {},
   "outputs": [],
   "source": [
    "class LinkedList:\n",
    "    def __init__(self):\n",
    "        self.head = None\n",
    "    \n",
    "    def push(self, data):\n",
    "        new_node = Node(data)\n",
    "        if self.head is None:\n",
    "            self.head = new_node\n",
    "            return\n",
    "        new_node.next = self.head\n",
    "        self.head = new_node\n",
    "    \n",
    "    def printSLL(self):\n",
    "        curr = self.head\n",
    "        while curr is not None:\n",
    "            print(curr.data, end=\"->\")\n",
    "            curr = curr.next\n",
    "    \n",
    "    def palindrome(self):\n",
    "        slow = self.head\n",
    "        fast = self.head\n",
    "\n",
    "        stack = []\n",
    "        stack.append(slow.data)\n",
    "\n",
    "        while fast.next is not None and fast.next.next is not None:\n",
    "            slow = slow.next\n",
    "            stack.append(slow.data)\n",
    "            fast = fast.next.next\n",
    "\n",
    "        if fast.next is not None:\n",
    "            stack.pop()\n",
    "            while slow:\n",
    "                if slow.data == stack[-1]:\n",
    "                    stack.pop()\n",
    "                else:\n",
    "                    return \"Not Palindrom\"\n",
    "                slow = slow.next\n",
    "        else:\n",
    "            while slow:\n",
    "                if slow.data == stack[-1]:\n",
    "                    stack.pop()\n",
    "                else:\n",
    "                    return \"Not Palindrome\"\n",
    "                slow = slow.next\n",
    "        if len(stack)==0:\n",
    "            return \"it is a palindrome\"\n",
    "        else:\n",
    "            return \"Not a palindrome\"\n",
    "        "
   ]
  },
  {
   "cell_type": "code",
   "execution_count": 42,
   "metadata": {},
   "outputs": [
    {
     "data": {
      "text/plain": [
       "'Not Palindrom'"
      ]
     },
     "execution_count": 42,
     "metadata": {},
     "output_type": "execute_result"
    }
   ],
   "source": [
    "SLL = LinkedList()\n",
    "\n",
    "SLL.push(1)\n",
    "SLL.push(2)\n",
    "# SLL.push(1)\n",
    "SLL.push(2)\n",
    "SLL.push(1)\n",
    "SLL.palindrome()"
   ]
  },
  {
   "cell_type": "code",
   "execution_count": 43,
   "metadata": {},
   "outputs": [
    {
     "name": "stdout",
     "output_type": "stream",
     "text": [
      "1->2->2->1->"
     ]
    }
   ],
   "source": [
    "SLL.printSLL()"
   ]
  },
  {
   "cell_type": "code",
   "execution_count": 1,
   "metadata": {},
   "outputs": [],
   "source": [
    "class Node:\n",
    "    def __init__(self, data):\n",
    "        self.data = data\n",
    "        self.next = None"
   ]
  },
  {
   "cell_type": "code",
   "execution_count": 22,
   "metadata": {},
   "outputs": [],
   "source": [
    "class SLL:\n",
    "    def __init__(self):\n",
    "        self.head = None\n",
    "\n",
    "    def insertion_at_head(self, new_data):\n",
    "        new_node = Node(new_data)\n",
    "        if self.head is None:\n",
    "            self.head = new_node\n",
    "            return \n",
    "        new_node.next = self.head\n",
    "        self.head = new_node\n",
    "\n",
    "    def print_sll(self):\n",
    "        curr = self.head\n",
    "        while curr is not None:\n",
    "            print(curr.data, end=\"->\")\n",
    "            curr = curr.next"
   ]
  },
  {
   "cell_type": "code",
   "execution_count": 23,
   "metadata": {},
   "outputs": [],
   "source": [
    "sll = SLL()\n",
    "sll.insertion_at_head(50)\n",
    "sll.insertion_at_head(40)"
   ]
  },
  {
   "cell_type": "code",
   "execution_count": 24,
   "metadata": {},
   "outputs": [
    {
     "name": "stdout",
     "output_type": "stream",
     "text": [
      "40->50->"
     ]
    }
   ],
   "source": [
    "sll.print_sll()"
   ]
  },
  {
   "cell_type": "code",
   "execution_count": 28,
   "metadata": {},
   "outputs": [
    {
     "data": {
      "text/plain": [
       "'srf'"
      ]
     },
     "execution_count": 28,
     "metadata": {},
     "output_type": "execute_result"
    }
   ],
   "source": [
    "s = \"srfigudhf\"\n",
    "s[0:3]"
   ]
  },
  {
   "cell_type": "code",
   "execution_count": null,
   "metadata": {},
   "outputs": [],
   "source": []
  }
 ],
 "metadata": {
  "kernelspec": {
   "display_name": "Python 3",
   "language": "python",
   "name": "python3"
  },
  "language_info": {
   "codemirror_mode": {
    "name": "ipython",
    "version": 3
   },
   "file_extension": ".py",
   "mimetype": "text/x-python",
   "name": "python",
   "nbconvert_exporter": "python",
   "pygments_lexer": "ipython3",
   "version": "3.11.9"
  }
 },
 "nbformat": 4,
 "nbformat_minor": 2
}
