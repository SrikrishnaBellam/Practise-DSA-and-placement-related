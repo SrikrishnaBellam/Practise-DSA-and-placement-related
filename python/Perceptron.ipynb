{
 "cells": [
  {
   "cell_type": "code",
   "execution_count": 1,
   "metadata": {},
   "outputs": [],
   "source": [
    "import numpy as np"
   ]
  },
  {
   "cell_type": "code",
   "execution_count": 20,
   "metadata": {},
   "outputs": [],
   "source": [
    "class Perceptron:\n",
    "    def __init__(self, input_size, learning_rate=0.1, epochs=1000):\n",
    "        self.weights = np.zeros(input_size + 1) \n",
    "        self.learning_rate = learning_rate\n",
    "        self.epochs = epochs\n",
    "\n",
    "    def activation_function(self, x):\n",
    "        return 1 if x >= 0 else 0\n",
    "\n",
    "    def predict(self, x):\n",
    "        z = np.dot(x, self.weights[1:]) + self.weights[0]\n",
    "        return self.activation_function(z)\n",
    "\n",
    "    def train(self, X, y):\n",
    "        for _ in range(self.epochs):\n",
    "            for i in range(len(X)):\n",
    "                prediction = self.predict(X[i])\n",
    "                error = y[i] - prediction\n",
    "                self.weights[1:] += self.learning_rate * error * X[i]\n",
    "                self.weights[0] += self.learning_rate * error"
   ]
  },
  {
   "cell_type": "code",
   "execution_count": 16,
   "metadata": {},
   "outputs": [],
   "source": [
    "X = np.array([\n",
    "    [0, 0],\n",
    "    [0, 1],\n",
    "    [1, 0],\n",
    "    [1, 1]\n",
    "])\n",
    "\n",
    "y_and = np.array([0, 0, 0, 1])\n",
    "\n",
    "y_or = np.array([0, 1, 1, 1])\n",
    "\n",
    "y_xor = np.array([0, 1, 1, 0])"
   ]
  },
  {
   "cell_type": "code",
   "execution_count": 17,
   "metadata": {},
   "outputs": [],
   "source": [
    "perceptron_and = Perceptron(input_size=2)\n",
    "perceptron_or = Perceptron(input_size=2)\n",
    "perceptron_xor = Perceptron(input_size=2)"
   ]
  },
  {
   "cell_type": "code",
   "execution_count": 18,
   "metadata": {},
   "outputs": [],
   "source": [
    "perceptron_and.train(X, y_and)\n",
    "perceptron_or.train(X, y_or)\n",
    "perceptron_xor.train(X, y_xor)"
   ]
  },
  {
   "cell_type": "code",
   "execution_count": 19,
   "metadata": {},
   "outputs": [
    {
     "name": "stdout",
     "output_type": "stream",
     "text": [
      "AND Gate:\n",
      "[0, 0, 0, 1]\n",
      "OR Gate:\n",
      "[0, 1, 1, 1]\n",
      "XOR Gate:\n",
      "[1, 1, 0, 0]\n"
     ]
    }
   ],
   "source": [
    "print(\"AND Gate:\")\n",
    "print([perceptron_and.predict(x) for x in X])\n",
    "\n",
    "print(\"OR Gate:\")\n",
    "print([perceptron_or.predict(x) for x in X])\n",
    "\n",
    "print(\"XOR Gate:\")\n",
    "print([perceptron_xor.predict(x) for x in X]) "
   ]
  },
  {
   "cell_type": "markdown",
   "metadata": {},
   "source": [
    "# MLP"
   ]
  },
  {
   "cell_type": "code",
   "execution_count": 23,
   "metadata": {},
   "outputs": [
    {
     "name": "stdout",
     "output_type": "stream",
     "text": [
      "Predicted XOR output:\n",
      "[[0.]\n",
      " [1.]\n",
      " [1.]\n",
      " [0.]]\n"
     ]
    },
    {
     "ename": "",
     "evalue": "",
     "output_type": "error",
     "traceback": [
      "\u001b[1;31mThe Kernel crashed while executing code in the current cell or a previous cell. \n",
      "\u001b[1;31mPlease review the code in the cell(s) to identify a possible cause of the failure. \n",
      "\u001b[1;31mClick <a href='https://aka.ms/vscodeJupyterKernelCrash'>here</a> for more info. \n",
      "\u001b[1;31mView Jupyter <a href='command:jupyter.viewOutput'>log</a> for further details."
     ]
    }
   ],
   "source": [
    "class MLP:\n",
    "    def __init__(self, input_size, hidden_size, output_size, learning_rate=0.1, epochs=10000):\n",
    "        self.weights_input_hidden = np.random.rand(input_size, hidden_size)\n",
    "        self.weights_hidden_output = np.random.rand(hidden_size, output_size)\n",
    "        self.learning_rate = learning_rate\n",
    "        self.epochs = epochs\n",
    "\n",
    "    def sigmoid(self, x):\n",
    "        return 1 / (1 + np.exp(-x))\n",
    "\n",
    "    def sigmoid_derivative(self, x):\n",
    "        return x * (1 - x)\n",
    "\n",
    "    def forward(self, X):\n",
    "        self.hidden_input = np.dot(X, self.weights_input_hidden)\n",
    "        self.hidden_output = self.sigmoid(self.hidden_input)\n",
    "        \n",
    "        self.output_input = np.dot(self.hidden_output, self.weights_hidden_output)\n",
    "        self.output = self.sigmoid(self.output_input)\n",
    "        \n",
    "        return self.output\n",
    "\n",
    "    def backward(self, X, y):\n",
    "        output_error = y - self.output\n",
    "        output_delta = output_error * self.sigmoid_derivative(self.output)\n",
    "        \n",
    "        hidden_error = np.dot(output_delta, self.weights_hidden_output.T)\n",
    "        hidden_delta = hidden_error * self.sigmoid_derivative(self.hidden_output)\n",
    "        \n",
    "        self.weights_hidden_output += self.learning_rate * np.dot(self.hidden_output.T, output_delta)\n",
    "        self.weights_input_hidden += self.learning_rate * np.dot(X.T, hidden_delta)\n",
    "\n",
    "    def train(self, X, y):\n",
    "        for _ in range(self.epochs):\n",
    "            self.forward(X)\n",
    "            self.backward(X, y)\n",
    "\n",
    "    def predict(self, X):\n",
    "        return self.forward(X)\n",
    "\n",
    "X = np.array([\n",
    "    [0, 0],\n",
    "    [0, 1],\n",
    "    [1, 0],\n",
    "    [1, 1]\n",
    "])\n",
    "\n",
    "y = np.array([[0], [1], [1], [0]])\n",
    "\n",
    "mlp = MLP(input_size=2, hidden_size=2, output_size=1, learning_rate=0.1, epochs=10000)\n",
    "\n",
    "mlp.train(X, y)\n",
    "\n",
    "output = mlp.predict(X)\n",
    "print(\"Predicted XOR output:\")\n",
    "print(np.round(output))  "
   ]
  },
  {
   "cell_type": "code",
   "execution_count": null,
   "metadata": {},
   "outputs": [],
   "source": []
  }
 ],
 "metadata": {
  "kernelspec": {
   "display_name": "Python 3",
   "language": "python",
   "name": "python3"
  },
  "language_info": {
   "codemirror_mode": {
    "name": "ipython",
    "version": 3
   },
   "file_extension": ".py",
   "mimetype": "text/x-python",
   "name": "python",
   "nbconvert_exporter": "python",
   "pygments_lexer": "ipython3",
   "version": "3.11.9"
  }
 },
 "nbformat": 4,
 "nbformat_minor": 2
}
