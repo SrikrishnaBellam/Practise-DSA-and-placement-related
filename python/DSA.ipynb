{
 "cells": [
  {
   "cell_type": "markdown",
   "metadata": {},
   "source": [
    "## Linear Search"
   ]
  },
  {
   "cell_type": "markdown",
   "metadata": {},
   "source": []
  },
  {
   "cell_type": "code",
   "execution_count": 24,
   "metadata": {},
   "outputs": [],
   "source": [
    "lst = [x for x in range(1,100001)]\n",
    "\n",
    "def linear_search(list,val):\n",
    "    for i in range(len(list)):\n",
    "        if list[i]==val:\n",
    "            print(\"{} found at location {}\".format(val, i))\n",
    "            break"
   ]
  },
  {
   "cell_type": "code",
   "execution_count": 16,
   "metadata": {},
   "outputs": [
    {
     "name": "stdout",
     "output_type": "stream",
     "text": [
      "9999 found at location 9998\n"
     ]
    }
   ],
   "source": [
    "linear_search(lst, 9999)"
   ]
  },
  {
   "cell_type": "code",
   "execution_count": 30,
   "metadata": {},
   "outputs": [],
   "source": [
    "def binarySearch(sorted_array,val_searched):\n",
    "    n = len(sorted_array)\n",
    "    a = sorted_array\n",
    "    x = val_searched\n",
    "    flag = False\n",
    "    lowerBound = 0\n",
    "    upperBound = n\n",
    "\n",
    "    while (flag!=True):\n",
    "        if upperBound < lowerBound:\n",
    "            flag = True\n",
    "            return print(\"does not exist\")\n",
    "        midPoint = int(lowerBound + (upperBound-lowerBound)/2)\n",
    "        if a[midPoint]<x:\n",
    "            lowerBound = midPoint+1\n",
    "        if a[midPoint]>x:\n",
    "            upperBound = midPoint - 1\n",
    "        if a[midPoint]==x:\n",
    "            flag=True\n",
    "            return print(\"{} found at location {}\".format(x,midPoint))\n"
   ]
  },
  {
   "cell_type": "code",
   "execution_count": 33,
   "metadata": {},
   "outputs": [
    {
     "name": "stdout",
     "output_type": "stream",
     "text": [
      "1 found at location 0\n"
     ]
    }
   ],
   "source": [
    "binarySearch(lst, 1)"
   ]
  },
  {
   "cell_type": "markdown",
   "metadata": {},
   "source": [
    "Longest common prefix"
   ]
  },
  {
   "cell_type": "code",
   "execution_count": 3,
   "metadata": {},
   "outputs": [],
   "source": [
    "def longest_common_prefix(strs):\n",
    "    if not strs:\n",
    "        return \"\"\n",
    "    \n",
    "    prefix = strs[0]\n",
    "    print(f\"Initial Prefix: '{prefix}'\")\n",
    "\n",
    "    for string in strs[1:]:\n",
    "        print(f\"\\nComparing prefix '{prefix}' with string '{string}'\")\n",
    "        while string[:len(prefix)] != prefix and prefix:\n",
    "            prefix = prefix[:len(prefix) - 1]\n",
    "            print(f\"Trimming prefix to: '{prefix}'\")\n",
    "\n",
    "        if not prefix:\n",
    "            break\n",
    "\n",
    "    return prefix"
   ]
  },
  {
   "cell_type": "code",
   "execution_count": 4,
   "metadata": {},
   "outputs": [
    {
     "name": "stdout",
     "output_type": "stream",
     "text": [
      "Initial Prefix: 'flower'\n",
      "\n",
      "Comparing prefix 'flower' with string 'flow'\n",
      "Trimming prefix to: 'flowe'\n",
      "Trimming prefix to: 'flow'\n",
      "\n",
      "Comparing prefix 'flow' with string 'flight'\n",
      "Trimming prefix to: 'flo'\n",
      "Trimming prefix to: 'fl'\n",
      "\n",
      "Longest Common Prefix: 'fl'\n"
     ]
    }
   ],
   "source": [
    "strings = [\"flower\", \"flow\", \"flight\"]\n",
    "print(f\"\\nLongest Common Prefix: '{longest_common_prefix(strings)}'\")"
   ]
  },
  {
   "cell_type": "markdown",
   "metadata": {},
   "source": [
    "Trapping rain water"
   ]
  },
  {
   "cell_type": "code",
   "execution_count": 5,
   "metadata": {},
   "outputs": [],
   "source": [
    "def trap(height):\n",
    "    if not height:\n",
    "        return 0\n",
    "    \n",
    "    n = len(height)\n",
    "    left_max = [0]*n\n",
    "    right_max = [0]*n\n",
    "\n",
    "    left_max[0] = height[0]\n",
    "    for i in range(1,n):\n",
    "        left_max[i] = max(left_max[i-1], height[i])\n",
    "    \n",
    "    right_max[n-1] = height[n-1]\n",
    "    for i in range(n-2, -1, -1):\n",
    "        right_max[i] = max(right_max[i+1], height[i])\n",
    "\n",
    "    print(left_max, right_max)\n",
    "\n",
    "    total_water = 0\n",
    "    for i in range(n):\n",
    "        water_at_i = min(left_max[i], right_max[i]) - height[i]\n",
    "        total_water += water_at_i\n",
    "    \n",
    "    return total_water"
   ]
  },
  {
   "cell_type": "code",
   "execution_count": 6,
   "metadata": {},
   "outputs": [
    {
     "name": "stdout",
     "output_type": "stream",
     "text": [
      "[0, 1, 1, 2, 2, 2, 2, 3, 3, 3, 3, 3] [3, 3, 3, 3, 3, 3, 3, 3, 2, 2, 2, 1]\n",
      "6\n"
     ]
    }
   ],
   "source": [
    "height = [0, 1, 0, 2, 1, 0, 1, 3, 2, 1, 2, 1]\n",
    "print(trap(height))"
   ]
  },
  {
   "cell_type": "code",
   "execution_count": 10,
   "metadata": {},
   "outputs": [
    {
     "name": "stdout",
     "output_type": "stream",
     "text": [
      "6\n"
     ]
    }
   ],
   "source": [
    "def trap(height):\n",
    "    if not height:\n",
    "        return 0\n",
    "\n",
    "    left, right = 0, len(height) - 1\n",
    "    left_max, right_max = 0, 0\n",
    "    total_water = 0\n",
    "\n",
    "    while left < right:\n",
    "        if height[left] < height[right]:\n",
    "            if height[left] >= left_max:\n",
    "                left_max = height[left]\n",
    "            else:\n",
    "                total_water += left_max - height[left]\n",
    "            left += 1\n",
    "        else:\n",
    "            if height[right] >= right_max:\n",
    "                right_max = height[right]\n",
    "            else:\n",
    "                total_water += right_max - height[right]\n",
    "            right -= 1\n",
    "\n",
    "    return total_water\n",
    "\n",
    "# Example usage\n",
    "height = [0, 1, 0, 2, 1, 0, 1, 3, 2, 1, 2, 1]\n",
    "print(trap(height))  # Output: 6\n"
   ]
  },
  {
   "cell_type": "markdown",
   "metadata": {},
   "source": [
    "Candy"
   ]
  },
  {
   "cell_type": "code",
   "execution_count": 18,
   "metadata": {},
   "outputs": [
    {
     "name": "stdout",
     "output_type": "stream",
     "text": [
      "5\n"
     ]
    }
   ],
   "source": [
    "def candy(rating):\n",
    "    if not rating:\n",
    "        return 0\n",
    "    \n",
    "    n = len(rating)\n",
    "    candies = [1]*n\n",
    "\n",
    "    for i in range(1,n):\n",
    "        if rating[i] > rating[i-1]:\n",
    "            candies[i] = candies[i-1] + 1\n",
    "    \n",
    "    for i in range(n-2, -1, -1):\n",
    "        if rating[i] > rating[i-1]:\n",
    "            candies[i] = max(candies[i], candies[i+1] + 1)\n",
    "            \n",
    "    return sum(candies)"
   ]
  },
  {
   "cell_type": "code",
   "execution_count": 19,
   "metadata": {},
   "outputs": [
    {
     "data": {
      "text/plain": [
       "5"
      ]
     },
     "execution_count": 19,
     "metadata": {},
     "output_type": "execute_result"
    }
   ],
   "source": [
    "ratings = [1,0,2]\n",
    "\n",
    "candy(ratings)"
   ]
  },
  {
   "cell_type": "markdown",
   "metadata": {},
   "source": [
    "Capturing water"
   ]
  },
  {
   "cell_type": "code",
   "execution_count": 24,
   "metadata": {},
   "outputs": [],
   "source": [
    "def capture(heights):\n",
    "    n = len(heights)\n",
    "\n",
    "    left = 0\n",
    "    right = len(heights) - 1\n",
    "    area = 0\n",
    "\n",
    "    while left < right:\n",
    "        area = max(area, min(heights[left], heights[right])*(right - left))\n",
    "\n",
    "        if heights[left] < heights[right]:\n",
    "            left += 1\n",
    "        else:\n",
    "            right -= 1\n",
    "    \n",
    "    return area"
   ]
  },
  {
   "cell_type": "code",
   "execution_count": 25,
   "metadata": {},
   "outputs": [
    {
     "data": {
      "text/plain": [
       "49"
      ]
     },
     "execution_count": 25,
     "metadata": {},
     "output_type": "execute_result"
    }
   ],
   "source": [
    "height = [1,8,6,2,5,4,8,3,7]\n",
    "capture(height)"
   ]
  },
  {
   "cell_type": "markdown",
   "metadata": {},
   "source": [
    "product except self"
   ]
  },
  {
   "cell_type": "code",
   "execution_count": 29,
   "metadata": {},
   "outputs": [],
   "source": [
    "def product_except_self(nums):\n",
    "    n = len(nums)\n",
    "    output = [1] * n\n",
    "\n",
    "    left_product = 1\n",
    "    for i in range(n):\n",
    "        output[i] = left_product\n",
    "        left_product *= nums[i]\n",
    "        print(output)\n",
    "    \n",
    "    print(\"----\")\n",
    "    right_product = 1\n",
    "    for i in range(n-1, -1, -1):\n",
    "        output[i] *= right_product\n",
    "        print(right_product)\n",
    "        right_product *= nums[i]\n",
    "        print(output)\n",
    "    \n",
    "    return output"
   ]
  },
  {
   "cell_type": "code",
   "execution_count": 30,
   "metadata": {},
   "outputs": [
    {
     "name": "stdout",
     "output_type": "stream",
     "text": [
      "[1, 1, 1, 1]\n",
      "[1, 1, 1, 1]\n",
      "[1, 1, 2, 1]\n",
      "[1, 1, 2, 6]\n",
      "----\n",
      "1\n",
      "[1, 1, 2, 6]\n",
      "4\n",
      "[1, 1, 8, 6]\n",
      "12\n",
      "[1, 12, 8, 6]\n",
      "24\n",
      "[24, 12, 8, 6]\n",
      "[24, 12, 8, 6]\n"
     ]
    }
   ],
   "source": [
    "nums = [1, 2, 3, 4]\n",
    "print(product_except_self(nums))  # Output: [24, 12, 8, 6]\n"
   ]
  },
  {
   "cell_type": "markdown",
   "metadata": {},
   "source": [
    "is Subsequence"
   ]
  },
  {
   "cell_type": "code",
   "execution_count": 31,
   "metadata": {},
   "outputs": [],
   "source": [
    "def isSub(s,t):\n",
    "    if len(s) == 0: return True\n",
    "    if len(s) > len(t): return False\n",
    "\n",
    "    i,j = 0,0\n",
    "    for i in range(len(t)):\n",
    "        if i<=len(s)-1 and s[i]==t[j]:\n",
    "            i+=1\n",
    "    \n",
    "    return i == len(s)"
   ]
  },
  {
   "cell_type": "code",
   "execution_count": null,
   "metadata": {},
   "outputs": [],
   "source": []
  }
 ],
 "metadata": {
  "kernelspec": {
   "display_name": "venv",
   "language": "python",
   "name": "python3"
  },
  "language_info": {
   "codemirror_mode": {
    "name": "ipython",
    "version": 3
   },
   "file_extension": ".py",
   "mimetype": "text/x-python",
   "name": "python",
   "nbconvert_exporter": "python",
   "pygments_lexer": "ipython3",
   "version": "3.10.11"
  }
 },
 "nbformat": 4,
 "nbformat_minor": 2
}
