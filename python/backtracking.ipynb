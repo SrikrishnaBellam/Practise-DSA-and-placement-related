{
 "cells": [
  {
   "cell_type": "markdown",
   "metadata": {},
   "source": [
    "### 17. Letter combination from phone number"
   ]
  },
  {
   "cell_type": "code",
   "execution_count": 1,
   "metadata": {},
   "outputs": [],
   "source": [
    "def letterCombination(digits):\n",
    "    if not digits:\n",
    "        return []\n",
    "    \n",
    "    phone_map = {\n",
    "        '2': 'abc', '3':'def', '4':'ghi', '5': 'jkl',\n",
    "        '6': 'mno', '7': 'pqrs', '8': 'tuv', '9': 'wxyz'\n",
    "    }\n",
    "\n",
    "    result = []\n",
    "\n",
    "    def backtrack(index, current_combination):\n",
    "        if index == len(digits):\n",
    "            result.append(''.join(current_combination))\n",
    "            return\n",
    "        curr_digit = digits[index]\n",
    "        letters = phone_map[curr_digit]\n",
    "\n",
    "        for letter in letters:\n",
    "            current_combination.append(letter)\n",
    "            backtrack(index + 1, current_combination)\n",
    "            print(current_combination)\n",
    "            current_combination.pop()\n",
    "    backtrack(0, [])\n",
    "    return result"
   ]
  },
  {
   "cell_type": "code",
   "execution_count": 3,
   "metadata": {},
   "outputs": [
    {
     "name": "stdout",
     "output_type": "stream",
     "text": [
      "['a', 'd']\n",
      "['a', 'e']\n",
      "['a', 'f']\n",
      "['a']\n",
      "['b', 'd']\n",
      "['b', 'e']\n",
      "['b', 'f']\n",
      "['b']\n",
      "['c', 'd']\n",
      "['c', 'e']\n",
      "['c', 'f']\n",
      "['c']\n",
      "['ad', 'ae', 'af', 'bd', 'be', 'bf', 'cd', 'ce', 'cf']\n"
     ]
    }
   ],
   "source": [
    "digits = \"23\"\n",
    "print(letterCombination(digits))"
   ]
  },
  {
   "cell_type": "markdown",
   "metadata": {},
   "source": [
    "### Combination"
   ]
  },
  {
   "cell_type": "code",
   "execution_count": 7,
   "metadata": {},
   "outputs": [],
   "source": [
    "def combination(candidates, target):\n",
    "    result = []\n",
    "    def backtrack(start, path, curr_sum):\n",
    "        if curr_sum == target:\n",
    "            result.append(list(path))\n",
    "            return\n",
    "        \n",
    "        if curr_sum > target:\n",
    "            return\n",
    "        \n",
    "        for i in range(start, len(candidates)):\n",
    "            path.append(candidates[i])\n",
    "            print(path)\n",
    "            backtrack(i, path, curr_sum + candidates[i])\n",
    "            path.pop()\n",
    "    backtrack(0,[],0)\n",
    "    return result"
   ]
  },
  {
   "cell_type": "code",
   "execution_count": 8,
   "metadata": {},
   "outputs": [
    {
     "name": "stdout",
     "output_type": "stream",
     "text": [
      "[2]\n",
      "[2, 2]\n",
      "[2, 2, 2]\n",
      "[2, 2, 2, 2]\n",
      "[2, 2, 2, 3]\n",
      "[2, 2, 2, 6]\n",
      "[2, 2, 2, 7]\n",
      "[2, 2, 3]\n",
      "[2, 2, 6]\n",
      "[2, 2, 7]\n",
      "[2, 3]\n",
      "[2, 3, 3]\n",
      "[2, 3, 6]\n",
      "[2, 3, 7]\n",
      "[2, 6]\n",
      "[2, 7]\n",
      "[3]\n",
      "[3, 3]\n",
      "[3, 3, 3]\n",
      "[3, 3, 6]\n",
      "[3, 3, 7]\n",
      "[3, 6]\n",
      "[3, 7]\n",
      "[6]\n",
      "[6, 6]\n",
      "[6, 7]\n",
      "[7]\n",
      "[[2, 2, 3], [7]]\n"
     ]
    }
   ],
   "source": [
    "candidates = [2, 3, 6, 7]\n",
    "target = 7\n",
    "print(combination(candidates, target))  # Output: [[2, 2, 3], [7]]\n"
   ]
  },
  {
   "cell_type": "markdown",
   "metadata": {},
   "source": [
    "### Permutations"
   ]
  },
  {
   "cell_type": "code",
   "execution_count": 10,
   "metadata": {},
   "outputs": [],
   "source": [
    "def permute(nums):\n",
    "    result = []\n",
    "    def backtrack(path, used):\n",
    "        if len(path)==len(nums):\n",
    "            result.append(list(path))\n",
    "            return\n",
    "        for i in range(len(nums)):\n",
    "            if used[i]:\n",
    "                continue\n",
    "\n",
    "            path.append(nums[i])\n",
    "            used[i] = True\n",
    "\n",
    "            backtrack(path, used)\n",
    "            path.pop()\n",
    "\n",
    "            used[i] = False\n",
    "\n",
    "    used = [False] * len(nums)\n",
    "    backtrack([], used)\n",
    "    return result"
   ]
  },
  {
   "cell_type": "code",
   "execution_count": 11,
   "metadata": {},
   "outputs": [
    {
     "name": "stdout",
     "output_type": "stream",
     "text": [
      "[[1, 2, 3], [1, 3, 2], [2, 1, 3], [2, 3, 1], [3, 1, 2], [3, 2, 1]]\n"
     ]
    }
   ],
   "source": [
    "nums = [1, 2, 3]\n",
    "print(permute(nums))"
   ]
  },
  {
   "cell_type": "code",
   "execution_count": 12,
   "metadata": {},
   "outputs": [
    {
     "data": {
      "text/plain": [
       "['a', 'b', 'e', 'l', 's']"
      ]
     },
     "execution_count": 12,
     "metadata": {},
     "output_type": "execute_result"
    }
   ],
   "source": [
    "a = \"basel\"\n",
    "\n",
    "sorted(a)"
   ]
  },
  {
   "cell_type": "code",
   "execution_count": 13,
   "metadata": {},
   "outputs": [
    {
     "data": {
      "text/plain": [
       "['b', 'a', 's', 'e', 'l']"
      ]
     },
     "execution_count": 13,
     "metadata": {},
     "output_type": "execute_result"
    }
   ],
   "source": [
    "list(a)"
   ]
  },
  {
   "cell_type": "code",
   "execution_count": 20,
   "metadata": {},
   "outputs": [
    {
     "ename": "TypeError",
     "evalue": "ord() expected string of length 1, but int found",
     "output_type": "error",
     "traceback": [
      "\u001b[1;31m---------------------------------------------------------------------------\u001b[0m",
      "\u001b[1;31mTypeError\u001b[0m                                 Traceback (most recent call last)",
      "Cell \u001b[1;32mIn[20], line 1\u001b[0m\n\u001b[1;32m----> 1\u001b[0m \u001b[38;5;28;43mord\u001b[39;49m\u001b[43m(\u001b[49m\u001b[38;5;241;43m90\u001b[39;49m\u001b[43m)\u001b[49m\n",
      "\u001b[1;31mTypeError\u001b[0m: ord() expected string of length 1, but int found"
     ]
    }
   ],
   "source": []
  },
  {
   "cell_type": "code",
   "execution_count": null,
   "metadata": {},
   "outputs": [],
   "source": []
  }
 ],
 "metadata": {
  "kernelspec": {
   "display_name": "Python 3",
   "language": "python",
   "name": "python3"
  },
  "language_info": {
   "codemirror_mode": {
    "name": "ipython",
    "version": 3
   },
   "file_extension": ".py",
   "mimetype": "text/x-python",
   "name": "python",
   "nbconvert_exporter": "python",
   "pygments_lexer": "ipython3",
   "version": "3.10.11"
  }
 },
 "nbformat": 4,
 "nbformat_minor": 2
}
