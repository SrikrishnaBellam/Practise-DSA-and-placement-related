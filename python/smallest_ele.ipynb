{
 "cells": [
  {
   "cell_type": "code",
   "execution_count": 2,
   "metadata": {},
   "outputs": [],
   "source": [
    "def smaller_ele(arr):\n",
    "    first = 0\n",
    "    sec = 1\n",
    "    mini = arr[first]\n",
    "\n",
    "    arr[first] = -1\n",
    "\n",
    "    for i in range(1,len(arr)):\n",
    "        if arr[sec] < mini:\n",
    "            mini = arr[sec]\n",
    "            first = i\n",
    "            arr[sec] = -1\n",
    "            sec = i+1\n",
    "            continue\n",
    "        arr[sec] = min(mini, arr[sec])\n",
    "        sec += 1\n",
    "    return arr"
   ]
  },
  {
   "cell_type": "code",
   "execution_count": 3,
   "metadata": {},
   "outputs": [
    {
     "name": "stdout",
     "output_type": "stream",
     "text": [
      "[-1, 4, -1, 2, 2]\n"
     ]
    }
   ],
   "source": [
    "arr = [4,5,2,10,8]\n",
    "print(smaller_ele(arr))"
   ]
  },
  {
   "cell_type": "code",
   "execution_count": null,
   "metadata": {},
   "outputs": [],
   "source": []
  }
 ],
 "metadata": {
  "kernelspec": {
   "display_name": "Python 3",
   "language": "python",
   "name": "python3"
  },
  "language_info": {
   "codemirror_mode": {
    "name": "ipython",
    "version": 3
   },
   "file_extension": ".py",
   "mimetype": "text/x-python",
   "name": "python",
   "nbconvert_exporter": "python",
   "pygments_lexer": "ipython3",
   "version": "3.10.11"
  }
 },
 "nbformat": 4,
 "nbformat_minor": 2
}
