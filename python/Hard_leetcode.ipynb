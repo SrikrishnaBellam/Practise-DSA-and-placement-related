{
 "cells": [
  {
   "cell_type": "markdown",
   "metadata": {},
   "source": [
    "### Trapping rain water"
   ]
  },
  {
   "cell_type": "markdown",
   "metadata": {},
   "source": [
    "Given n non-negative integers representing an elevation map where the width of each bar is 1, compute how much water it can trap after raining."
   ]
  },
  {
   "cell_type": "code",
   "execution_count": null,
   "metadata": {},
   "outputs": [],
   "source": [
    "def trapping_water(height):\n",
    "    if not height:\n",
    "        return 0\n",
    "    n = len(height)\n",
    "    left_max, right_max = [0] * height, [0] * height\n",
    "\n",
    "    left_max[0] = height[0]\n",
    "    for i in range(1, n):\n",
    "        left_max[i] = max(left_max[i-1], height[i])\n",
    "    \n",
    "    right_max[0] = height[-1]\n",
    "    for i in range(n-2, -1 , -1):\n",
    "        right_max[i] = max(right_max[i+1], height[i])\n",
    "    \n",
    "    total_water = 0\n",
    "    for i in range(n):\n",
    "        water_at_i = min(left_max[i], right_max[i]) - height[i]\n",
    "        total_water += water_at_i\n",
    "\n",
    "    return total_water"
   ]
  },
  {
   "cell_type": "markdown",
   "metadata": {},
   "source": [
    "### Candy"
   ]
  },
  {
   "cell_type": "markdown",
   "metadata": {},
   "source": [
    "There are n children standing in a line. Each child is assigned a rating value given in the integer array ratings.\n",
    "\n",
    "You are giving candies to these children subjected to the following requirements:\n",
    "\n",
    "Each child must have at least one candy.\n",
    "Children with a higher rating get more candies than their neighbors.\n",
    "Return the minimum number of candies you need to have to distribute the candies to the children."
   ]
  },
  {
   "cell_type": "code",
   "execution_count": null,
   "metadata": {},
   "outputs": [],
   "source": [
    "def candy(ratings):\n",
    "    if not ratings:\n",
    "        return 0\n",
    "    n = len(ratings)\n",
    "    dp = [1]*n\n",
    "\n",
    "    for i in range(1,n):\n",
    "        if ratings[i] > ratings[i-1]:\n",
    "            dp[i] = dp[i-1] + 1\n",
    "    \n",
    "    for i in range(n-2, -1, -1):\n",
    "        if ratings[i] > ratings[i+1]:\n",
    "            dp[i] = max(dp[i], dp[i+1] + 1)\n",
    "    \n",
    "    return sum(dp)"
   ]
  },
  {
   "cell_type": "code",
   "execution_count": null,
   "metadata": {},
   "outputs": [],
   "source": []
  }
 ],
 "metadata": {
  "language_info": {
   "name": "python"
  }
 },
 "nbformat": 4,
 "nbformat_minor": 2
}
