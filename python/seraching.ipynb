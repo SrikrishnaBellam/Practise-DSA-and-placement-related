{
 "cells": [
  {
   "cell_type": "markdown",
   "metadata": {},
   "source": [
    "# finding range of a given num using binary serach"
   ]
  },
  {
   "cell_type": "code",
   "execution_count": 1,
   "metadata": {},
   "outputs": [],
   "source": [
    "n = 10\n",
    "lst = [1,2,2,2,2,3,4,8,8,8]"
   ]
  },
  {
   "cell_type": "code",
   "execution_count": 19,
   "metadata": {},
   "outputs": [],
   "source": [
    "def findLowerBound(lst, num):\n",
    "    start = 0\n",
    "    end = len(lst) - 1\n",
    "    while start < end:\n",
    "        mid = (start + end)//2\n",
    "        if lst[mid]<num:\n",
    "            start = mid + 1\n",
    "        else:\n",
    "            end = mid\n",
    "    if start < len(lst) and lst[start] == num:\n",
    "        return start\n",
    "    else:\n",
    "        return -1\n",
    "    \n",
    "def findUpperBound(lst, num):\n",
    "    start = 0\n",
    "    end = len(lst) - 1\n",
    "    while start < end:\n",
    "        mid = (start + end)//2 + 1\n",
    "        if lst[mid]>num:\n",
    "            end = mid - 1\n",
    "        else:\n",
    "            start = mid\n",
    "    if start < len(lst) and lst[start] == num:\n",
    "        return start\n",
    "    else:\n",
    "        return -1\n",
    "\n",
    "def find_range(lst, num):\n",
    "    lower = findLowerBound(lst, num)\n",
    "    if lower == -1:\n",
    "        print(\"No occurences\")\n",
    "    else:\n",
    "        upper = findUpperBound(lst, num)\n",
    "        return [lower, upper]"
   ]
  },
  {
   "cell_type": "code",
   "execution_count": 22,
   "metadata": {},
   "outputs": [
    {
     "data": {
      "text/plain": [
       "[7, 9]"
      ]
     },
     "execution_count": 22,
     "metadata": {},
     "output_type": "execute_result"
    }
   ],
   "source": [
    "find_range(lst, 8)"
   ]
  },
  {
   "cell_type": "markdown",
   "metadata": {},
   "source": [
    "\n",
    "Write a program that takes input for the size of the array, the array elements, and the target element to be searched.\n",
    "\n",
    "\n",
    "\n",
    "Implement a function linearSearch that performs a linear search on the array and returns the index of the target element if found, or -1 if the element is not present in the array"
   ]
  },
  {
   "cell_type": "code",
   "execution_count": null,
   "metadata": {},
   "outputs": [],
   "source": [
    "n = int(input())\n",
    "lst = list(map(int, input().split()))\n",
    "num = int(input())\n",
    "\n",
    "def linearSearch(lst, num):\n",
    "    for i in range(len(lst)):\n",
    "        if lst[i] == num:\n",
    "            return f'Element {num} found at index {i}'\n",
    "    return f\"Element {num} not found in the array \"\n",
    "\n",
    "print(linearSearch(lst,num))"
   ]
  },
  {
   "cell_type": "markdown",
   "metadata": {},
   "source": [
    "Develop a program that manipulates a singly linked list through push operations. The program takes an integer N as input, creates a linked list with values from N to 1 (inclusive), and prints the list after each push.\n",
    "\n",
    "\n",
    "\n",
    "Additionally, implement a function to find and print the middle element, and another function for linear search based on a given key. The program should output whether the key is found in the linked list.\n",
    "\n",
    "\n",
    "\n",
    "Note:\n",
    "\n",
    "The middle element is defined as the one occupying the (length/2) + 1 position in the linked list.\n",
    "\n",
    "If the length of the list is even, consider the second middle element.\n",
    "\n",
    "Input format :\n",
    "The first line of input consists of an integer N representing the number of nodes to be created in the linked list.\n",
    "\n",
    "The second line of input is an integer key for linear search.\n",
    "\n",
    "Output format :\n",
    "The output displays the following format:\n",
    "\n",
    "\n",
    "\n",
    "After each push operation, print the current state of the linked list.\n",
    "\n",
    "Print the middle element of the linked list.\n",
    "\n",
    "Print whether the given key is found or not in the linked list.\n",
    "\n",
    "\n",
    "Input 1 :\n",
    "6\n",
    "1\n",
    "\n",
    "\n",
    "Output 1 :\n",
    "6->NULL\n",
    "Middle element is 6\n",
    "5->6->NULL\n",
    "Middle element is 6\n",
    "4->5->6->NULL\n",
    "Middle element is 5\n",
    "3->4->5->6->NULL\n",
    "Middle element is 5\n",
    "2->3->4->5->6->NULL\n",
    "Middle element is 4\n",
    "1->2->3->4->5->6->NULL\n",
    "Middle element is 4\n",
    "1 found in the linked list.\n"
   ]
  },
  {
   "cell_type": "code",
   "execution_count": null,
   "metadata": {},
   "outputs": [],
   "source": [
    "class Node:\n",
    "    def __init__(self, data):\n",
    "        self.data = data\n",
    "        self.next = None\n",
    "\n",
    "class LinkedList:\n",
    "    def __init__(self):\n",
    "        self.head = None\n",
    "    \n",
    "    def push(self, new_data):\n",
    "        new_node = Node(new_data)\n",
    "        new_node.next = self.head\n",
    "        self.head = new_node\n",
    "        self.printList()\n",
    "\n",
    "    def printList(self):\n",
    "        temp = self.head\n",
    "        while temp:\n",
    "            print(temp.data, end='->')\n",
    "            temp = temp.next\n",
    "        print(\"NULL\")\n",
    "    \n",
    "    def findMiddle(self):\n",
    "        slow_ptr = self.head\n",
    "        fast_ptr = self.head\n",
    "\n",
    "        while fast_ptr and fast_ptr.next:\n",
    "            slow_ptr = slow_ptr.next\n",
    "            fast_ptr = fast_ptr.next.next\n",
    "        \n",
    "        if slow_ptr:\n",
    "            print(\"Middle element is\", slow_ptr.data)\n",
    "    \n",
    "    def search(self, key):\n",
    "        current = self.head\n",
    "        while current:\n",
    "            if current.data == key:\n",
    "                print(f\"{key} found in the linked list.\")\n",
    "                return\n",
    "            current = current.next\n",
    "        print(f\"{key} not found in the linked list.\")\n",
    "\n",
    "\n"
   ]
  },
  {
   "cell_type": "markdown",
   "metadata": {},
   "source": [
    "ou are given a linked list, and your task is to implement a program that searches for a specific element within the linked list using a linear search algorithm.\n",
    "\n",
    "Input format :\n",
    "The first line of input consists of five integers, n1, n2, n3, n4, and n5, representing the elements to be inserted into the linked list.\n",
    "\n",
    "The last line of input is an integer, x, representing the element to be searched in the linked list.\n",
    "\n",
    "Output format :\n",
    "The output displays the following format:\n",
    "\n",
    "\n",
    "\n",
    "If the element x is present in the linked list, print \"Yes\".\n",
    "\n",
    "If the element x is not present in the linked list, print \"No\".\n",
    "\n"
   ]
  },
  {
   "cell_type": "code",
   "execution_count": null,
   "metadata": {},
   "outputs": [],
   "source": [
    "class Node:\n",
    "    def __init__(self, data):\n",
    "        self.data = data\n",
    "        self.next = None\n",
    "        \n",
    "class SLL:\n",
    "    def __init__(self):\n",
    "        self.head = None\n",
    "        \n",
    "    def push(self, data):\n",
    "        new_node = Node(data)\n",
    "        if self.head is None:\n",
    "            self.head = new_node\n",
    "            return\n",
    "        new_node.next, self.head = self.head, new_node\n",
    "    \n",
    "    def linearSearch(self, num):\n",
    "        curr = self.head\n",
    "        while curr!=None:\n",
    "            if curr.data == num:\n",
    "                print(\"Yes\")\n",
    "                return\n",
    "            curr = curr.next\n",
    "        print(\"No\")\n",
    "    \n",
    "    def printSLL(self):\n",
    "        curr = self.head\n",
    "        while curr != None:\n",
    "            print(curr.data, end=\" \")\n",
    "            curr = curr.next\n",
    "        \n",
    "\n",
    "lst = list(map(int, input().split()))\n",
    "num = int(input())\n",
    "sll = SLL()\n",
    "for i in lst:\n",
    "    sll.push(i)\n",
    "# sll.printSLL()\n",
    "sll.linearSearch(num)"
   ]
  },
  {
   "cell_type": "markdown",
   "metadata": {},
   "source": [
    "\n",
    "Rithick gets a lottery ticket and checks each number in the list to see whether he has won the lottery or not.\n",
    "\n",
    "Since there are many numbers, he finds it tedious to check each ticket number manually. So he decides to write a code to check whether he has won the lottery or not. Help Rithick write a code to find his lottery ticket number from the given ticket numbers."
   ]
  },
  {
   "cell_type": "code",
   "execution_count": null,
   "metadata": {},
   "outputs": [],
   "source": [
    "n = int(input())\n",
    "lst = []\n",
    "for _ in range(n):\n",
    "    lst.append(int(input()))\n",
    "    \n",
    "num = int(input())\n",
    "\n",
    "def linearSearch(lst,num):\n",
    "    for i in range(len(lst)):\n",
    "        if lst[i] == num:\n",
    "            return f\"The Ticket number {num} is found at position {i+1} Congratulations! You have won the lottery\"\n",
    "    return f\"Sorry the ticket number {num} is not there. Better luck next time!\"\n",
    "    \n",
    "print(linearSearch(lst, num))"
   ]
  }
 ],
 "metadata": {
  "kernelspec": {
   "display_name": "Python 3",
   "language": "python",
   "name": "python3"
  },
  "language_info": {
   "codemirror_mode": {
    "name": "ipython",
    "version": 3
   },
   "file_extension": ".py",
   "mimetype": "text/x-python",
   "name": "python",
   "nbconvert_exporter": "python",
   "pygments_lexer": "ipython3",
   "version": "3.11.9"
  }
 },
 "nbformat": 4,
 "nbformat_minor": 2
}
