{
 "cells": [
  {
   "cell_type": "code",
   "execution_count": 2,
   "metadata": {},
   "outputs": [
    {
     "name": "stdout",
     "output_type": "stream",
     "text": [
      "55\n"
     ]
    }
   ],
   "source": [
    "#fibonacci\n",
    "\n",
    "def fibonacci(n):\n",
    "    if n<=1:\n",
    "        return n\n",
    "    fb = [0] * (n+1)\n",
    "    fb[1] = 1\n",
    "    for i in range(2, n+1):\n",
    "        fb[i] = fb[i-1] + fb[i-2]\n",
    "    return fb[n]\n",
    "\n",
    "print(fibonacci(10))"
   ]
  },
  {
   "cell_type": "code",
   "execution_count": null,
   "metadata": {},
   "outputs": [],
   "source": [
    "#practise\n",
    "\n",
    "def lcs(x,y):\n",
    "    m,n = len(x), len(y)\n",
    "    dp = [[0]*(n+1) for _ in range(m+1)]\n",
    "    for i in range(1,m+1):\n",
    "        for j in range(1,n+1):\n",
    "            if x[i-1] == y[j-1]:\n",
    "                dp[i][j] = dp[i-1][j-1] + 1\n",
    "            else:\n",
    "                dp[i][j] = max(dp[i-1][j])"
   ]
  },
  {
   "cell_type": "code",
   "execution_count": 4,
   "metadata": {},
   "outputs": [
    {
     "name": "stdout",
     "output_type": "stream",
     "text": [
      "4\n"
     ]
    }
   ],
   "source": [
    "#LCS\n",
    "\n",
    "def lcs(X,Y):\n",
    "    m, n = len(X), len(Y)\n",
    "\n",
    "    dp = [[0]*(n+1) for _ in range(m+1)]\n",
    "    for i in range(1,m+1):\n",
    "        for j in range(1,n+1):\n",
    "            if X[i-1] == Y[j-1]:\n",
    "                dp[i][j] = dp[i-1][j-1] + 1\n",
    "            else:\n",
    "                dp[i][j] = max(dp[i-1][j], dp[i][j-1])\n",
    "    return dp[m][n]\n",
    "\n",
    "X = \"AGGTAB\"\n",
    "Y = \"GXTXAYB\"\n",
    "print(lcs(X, Y))  # Output: 4"
   ]
  },
  {
   "cell_type": "markdown",
   "metadata": {},
   "source": [
    "3. 0/1 Knapsack Problem\n",
    "Given weights and values of n items, put these items in a knapsack of capacity W to get the maximum total value in the knapsack.\n",
    "\n",
    "Problem:\n",
    "Given weights wt and values val of n items, find the maximum value that can be obtained from a knapsack of capacity W.\n",
    "\n"
   ]
  },
  {
   "cell_type": "code",
   "execution_count": 5,
   "metadata": {},
   "outputs": [
    {
     "name": "stdout",
     "output_type": "stream",
     "text": [
      "220\n"
     ]
    }
   ],
   "source": [
    "def knapsack(W, wt, val, n):\n",
    "\n",
    "    dp = [[0]*(W+1) for _ in range(n+1)]\n",
    "\n",
    "    for i in range(n+1):\n",
    "        for w in range(W+1):\n",
    "            if i==0 or w ==0:\n",
    "                dp[i][w] = 0\n",
    "            elif wt[i-1] <= w:\n",
    "                dp[i][w] = max(val[i-1] + dp[i-1][w-wt[i-1]], dp[i-1][w])\n",
    "            else:\n",
    "                dp[i][w] = dp[i-1][w]\n",
    "    return dp[n][W]\n",
    "\n",
    "val = [60, 100, 120]\n",
    "wt = [10, 20, 30]\n",
    "W = 50\n",
    "n = len(val)\n",
    "print(knapsack(W, wt, val, n))\n"
   ]
  },
  {
   "cell_type": "code",
   "execution_count": 6,
   "metadata": {},
   "outputs": [
    {
     "name": "stdout",
     "output_type": "stream",
     "text": [
      "6\n"
     ]
    }
   ],
   "source": [
    "# Longest increasing subsequence\n",
    "\n",
    "def lis(arr):\n",
    "    n = len(arr)\n",
    "    lis = [1] * n\n",
    "    for i in range(1, n):\n",
    "        for j in range(0,i):\n",
    "            if arr[i] > arr[j] and lis[i] < lis[j] + 1:\n",
    "                lis[i] = lis[j] + 1\n",
    "    return max(lis)\n",
    "\n",
    "# Example usage\n",
    "arr = [10, 22, 9, 33, 21, 50, 41, 60, 80]\n",
    "print(lis(arr))  # Output: 6"
   ]
  },
  {
   "cell_type": "markdown",
   "metadata": {},
   "source": [
    "5. Coin Change Problem\n",
    "Given a set of coin denominations and a total amount, find the number of ways to make the amount using the coins.\n",
    "\n",
    "Problem:\n",
    "Given coins of different denominations and a total amount amount, find the number of ways to make the amount."
   ]
  },
  {
   "cell_type": "code",
   "execution_count": 8,
   "metadata": {},
   "outputs": [
    {
     "name": "stdout",
     "output_type": "stream",
     "text": [
      "4\n"
     ]
    }
   ],
   "source": [
    "def coin_change(coins, amount):\n",
    "    dp = [0]*(amount + 1)\n",
    "    dp[0] = 1\n",
    "\n",
    "    for coin in coins:\n",
    "        for x in range(coin, amount + 1):\n",
    "            dp[x] += dp[x-coin]\n",
    "    return dp[amount]\n",
    "\n",
    "coins = [1, 2, 5]\n",
    "amount = 5\n",
    "print(coin_change(coins, amount))  # Output: 4"
   ]
  },
  {
   "cell_type": "markdown",
   "metadata": {},
   "source": [
    "6. Edit Distance (Levenshtein Distance)\n",
    "Given two strings, find the minimum number of operations required to convert one string into the other.\n",
    "\n",
    "Problem:\n",
    "Given two strings str1 and str2, find the minimum number of operations required to convert str1 into str2."
   ]
  },
  {
   "cell_type": "code",
   "execution_count": 9,
   "metadata": {},
   "outputs": [
    {
     "name": "stdout",
     "output_type": "stream",
     "text": [
      "3\n"
     ]
    }
   ],
   "source": [
    "def edit_distance(s1, s2):\n",
    "    m,n = len(s1), len(s2)\n",
    "\n",
    "    dp = [[0]*(n+1) for _ in range(m+1)]\n",
    "\n",
    "    for i in range(m+1):\n",
    "        for j in range(n+1):\n",
    "            if i==0:\n",
    "                dp[i][j] = j\n",
    "            elif j==0:\n",
    "                dp[i][j] = i\n",
    "            elif s1[i-1]==s2[j-1]:\n",
    "                dp[i][j] = dp[i-1][j-1]\n",
    "            else:\n",
    "                dp[i][j] = 1 + min(dp[i][j-1], dp[i-1][j], dp[i-1][j-1])\n",
    "    return dp[m][n]\n",
    "\n",
    "str1 = \"sunday\"\n",
    "str2 = \"saturday\"\n",
    "print(edit_distance(str1, str2))  # Output: 3\n"
   ]
  },
  {
   "cell_type": "code",
   "execution_count": 10,
   "metadata": {},
   "outputs": [
    {
     "name": "stdout",
     "output_type": "stream",
     "text": [
      "True\n"
     ]
    }
   ],
   "source": [
    "#subset_sum\n",
    "\n",
    "def subset_sum(arr, sum):\n",
    "    n = len(arr)\n",
    "    dp = [[False]*(sum+1) for _ in range(n+1)]\n",
    "\n",
    "    for i in range(n+1):\n",
    "        dp[i][0] = True\n",
    "    \n",
    "    for i in range(1,n+1):\n",
    "        for j in range(1, sum+1):\n",
    "            if j < arr[i-1]:\n",
    "                dp[i][j] = dp[i-1][j]\n",
    "            else:\n",
    "                dp[i][j] = dp[i-1][j] or dp[i-1][j-arr[i-1]]\n",
    "    return dp[n][sum]\n",
    "arr = [3, 34, 4, 12, 5, 2]\n",
    "sum = 9\n",
    "print(subset_sum(arr, sum))  # Output: True\n"
   ]
  },
  {
   "cell_type": "code",
   "execution_count": 79,
   "metadata": {},
   "outputs": [],
   "source": [
    "def smaller_ele(arr):\n",
    "    first = 0\n",
    "    sec = 1\n",
    "    mini = arr[first]\n",
    "\n",
    "    arr[first] = -1\n",
    "\n",
    "    for i in range(1,len(arr)):\n",
    "        if arr[sec] < mini:\n",
    "            mini = arr[sec]\n",
    "            first = i\n",
    "            arr[sec] = -1\n",
    "            sec = i+1\n",
    "            continue\n",
    "        arr[sec] = min(mini, arr[sec])\n",
    "        sec += 1\n",
    "    return arr"
   ]
  },
  {
   "cell_type": "code",
   "execution_count": 84,
   "metadata": {},
   "outputs": [],
   "source": [
    "arr = [4,5,2,10,8]\n",
    "# arr = [10,6,11,5,10,8]"
   ]
  },
  {
   "cell_type": "code",
   "execution_count": 85,
   "metadata": {},
   "outputs": [
    {
     "name": "stdout",
     "output_type": "stream",
     "text": [
      "[-1, -1, 6, -1, 5, 5]\n"
     ]
    }
   ],
   "source": [
    "print(smaller_ele(arr))"
   ]
  },
  {
   "cell_type": "markdown",
   "metadata": {},
   "source": [
    "## Longest palindrome substring"
   ]
  },
  {
   "cell_type": "code",
   "execution_count": 6,
   "metadata": {},
   "outputs": [],
   "source": [
    "def printSubStr(st, low, high):\n",
    "    print((st[low:high+1]))\n",
    "\n",
    "def longestPalSubstr(St):\n",
    "    n = len(St)\n",
    "\n",
    "    table = [[0]*n for y in range(n)]\n",
    "\n",
    "    maxLen = 1\n",
    "    i = 0\n",
    "    while (i<n):\n",
    "        table[i][i] = True\n",
    "        i += 1\n",
    "    \n",
    "    start = 0\n",
    "    i = 0\n",
    "    while (i < n-1):\n",
    "        if(St[i] == St[i+1]):\n",
    "            table[i][i+1] = True\n",
    "            start = i\n",
    "            maxLen = 2\n",
    "        i = i + 1\n",
    "    \n",
    "    k = 3\n",
    "    while k <= n:\n",
    "        i = 0\n",
    "        while i < (n-k+1):\n",
    "            j = i + k - 1\n",
    "            if(table[i+1][j-1] and St[i]==St[j]):\n",
    "                table[i][j] = True\n",
    "\n",
    "                if (k > maxLen):\n",
    "                    start = i\n",
    "                    maxLen = k\n",
    "            i += 1\n",
    "        k += 1 \n",
    "    print(\"Longest palindrome substring is: \",end=\"\")\n",
    "    printSubStr(St, start, start + maxLen - 1)\n",
    "    return maxLen\n",
    "\n"
   ]
  },
  {
   "cell_type": "code",
   "execution_count": 8,
   "metadata": {},
   "outputs": [
    {
     "name": "stdout",
     "output_type": "stream",
     "text": [
      "Longest palindrome substring is: bb\n",
      "Length is: 2\n"
     ]
    }
   ],
   "source": [
    "st = \"cbbd\"\n",
    "l = longestPalSubstr(st)\n",
    "print(\"Length is:\", l)"
   ]
  },
  {
   "cell_type": "code",
   "execution_count": null,
   "metadata": {},
   "outputs": [],
   "source": []
  }
 ],
 "metadata": {
  "kernelspec": {
   "display_name": "Python 3",
   "language": "python",
   "name": "python3"
  },
  "language_info": {
   "codemirror_mode": {
    "name": "ipython",
    "version": 3
   },
   "file_extension": ".py",
   "mimetype": "text/x-python",
   "name": "python",
   "nbconvert_exporter": "python",
   "pygments_lexer": "ipython3",
   "version": "3.10.11"
  }
 },
 "nbformat": 4,
 "nbformat_minor": 2
}
