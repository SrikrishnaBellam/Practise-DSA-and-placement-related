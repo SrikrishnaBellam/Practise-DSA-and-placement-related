{
 "cells": [
  {
   "cell_type": "markdown",
   "metadata": {},
   "source": [
    "# Stacks"
   ]
  },
  {
   "cell_type": "code",
   "execution_count": 1,
   "metadata": {},
   "outputs": [],
   "source": [
    "class Stack:\n",
    "    def __init__(self):\n",
    "        self.stack = []\n",
    "    def push(self, ele):\n",
    "        self.stack.append(ele)\n",
    "    def pop(self):\n",
    "        if self.isEmpty():\n",
    "            return \"stack is empty\"\n",
    "        return self.stack.pop()\n",
    "    def peek(self):\n",
    "        if self.isEmpty():\n",
    "            return \"Stack is empty\"\n",
    "        return self.stack[-1]\n",
    "    def isEmpty():\n",
    "        return len(self.stack) == 0\n",
    "    def size(self):\n",
    "        return len(self.stack)"
   ]
  },
  {
   "cell_type": "markdown",
   "metadata": {},
   "source": [
    "# Queue"
   ]
  },
  {
   "cell_type": "code",
   "execution_count": 2,
   "metadata": {},
   "outputs": [],
   "source": [
    "class Queue:\n",
    "    def __init__(self):\n",
    "        self.queue = []\n",
    "    def isEmpty():\n",
    "        return len(self.queue)==0\n",
    "    def enqueue(self, ele):\n",
    "        return self.queue.append(ele)\n",
    "    def dequeue(self):\n",
    "        if self.isEmpty():\n",
    "            return \"Queue is empty\"\n",
    "        return self.queue.pop(0)\n",
    "    def peek(self):\n",
    "        if self.isEmpty():\n",
    "            return \"Queue is Empty\"\n",
    "        return self.queue[0]\n",
    "    def size(self):\n",
    "        return len(self.queue)"
   ]
  },
  {
   "cell_type": "markdown",
   "metadata": {},
   "source": [
    "# infix to postfix"
   ]
  },
  {
   "cell_type": "code",
   "execution_count": 5,
   "metadata": {},
   "outputs": [],
   "source": [
    "def prec(c):\n",
    "    if c == '^':\n",
    "        return 3\n",
    "    elif c == '/' or c == \"*\":\n",
    "        return 2\n",
    "    elif c == \"+\" or c == \"-\":\n",
    "        return 1\n",
    "    else:\n",
    "        return -1\n",
    "\n",
    "def associativity(c):\n",
    "    if c == \"^\":\n",
    "        return 'R'\n",
    "    return 'L'\n",
    "\n",
    "def inf_post(s):\n",
    "    res = []\n",
    "    st = []\n",
    "\n",
    "    for i in range(len(s)):\n",
    "        c = s[i]\n",
    "\n",
    "        if ('a' <= c <= 'z') or ('A' <= c <= 'Z') or ('0' <= c <='9'):\n",
    "            res.append(c)\n",
    "        elif c == '(':\n",
    "            st.append(c)\n",
    "        elif c == ')':\n",
    "            while st and st[-1] != '(':\n",
    "                res.append(st.pop())\n",
    "            st.pop()\n",
    "        else:\n",
    "            while st and (prec(s[i]) < prec(st[-1]) or\n",
    "                            (prec(s[i]) == prec(st[-1]) and\n",
    "                             associativity(s[i]) == 'L')):\n",
    "                res.append(st.pop())\n",
    "            st.append(c)\n",
    "    while st:\n",
    "        res.append(st.pop())\n",
    "    print(''.join(res))"
   ]
  },
  {
   "cell_type": "code",
   "execution_count": 6,
   "metadata": {},
   "outputs": [
    {
     "name": "stdout",
     "output_type": "stream",
     "text": [
      "abcd^e-fgh*+^*+i-\n"
     ]
    }
   ],
   "source": [
    "exp = \"a+b*(c^d-e)^(f+g*h)-i\"\n",
    "inf_post(exp)"
   ]
  },
  {
   "cell_type": "code",
   "execution_count": 9,
   "metadata": {},
   "outputs": [],
   "source": [
    "def prec(c):\n",
    "    if c == \"^\":\n",
    "        return 3\n",
    "    elif c == \"/\" or c==\"*\":\n",
    "        return 2\n",
    "    elif c == \"+\" or c==\"-\":\n",
    "        return 1\n",
    "    else:\n",
    "        return -1\n",
    "\n",
    "def associativity(c):\n",
    "    if c == \"^\":\n",
    "        return \"R\"\n",
    "    return 'L'\n",
    "\n",
    "def inf_pos(s):\n",
    "    res = []\n",
    "    st = []\n",
    "\n",
    "    for i in range(len(s)):\n",
    "        c = s[i]\n",
    "\n",
    "        if ('a'<=c<='z') or ('A'<=c<='Z') or ('0'<=c<='9'):\n",
    "            res.append(c)\n",
    "        elif (c == '('):\n",
    "            st.append(c)\n",
    "        elif (c == ')'):\n",
    "            while st and st[-1] != '(':\n",
    "                res.append(st.pop())\n",
    "            st.pop()\n",
    "        else:\n",
    "            while st and (prec(c)< prec(st[-1]) or (prec(c) == prec(st[-1]) and associativity(c) == 'L')):\n",
    "                res.append(st.pop())\n",
    "            st.append(c)\n",
    "    while st:\n",
    "        res.append(st.pop())\n",
    "    print(''.join(res))"
   ]
  },
  {
   "cell_type": "code",
   "execution_count": 10,
   "metadata": {},
   "outputs": [
    {
     "name": "stdout",
     "output_type": "stream",
     "text": [
      "abcd^e-fgh*+^*+i-\n"
     ]
    }
   ],
   "source": [
    "inf_pos(exp)"
   ]
  },
  {
   "cell_type": "code",
   "execution_count": 25,
   "metadata": {},
   "outputs": [],
   "source": [
    "def evaluate_postfix(exp):\n",
    "    stack = []\n",
    "    for i in exp:\n",
    "        if i.isdigit():\n",
    "            stack.append(int(i))\n",
    "        else:\n",
    "            num2 = stack.pop()\n",
    "            num1 = stack.pop()\n",
    "\n",
    "            if i == '+':\n",
    "                stack.append(num1+num2)\n",
    "            elif i == '-':\n",
    "                stack.append(num1-num2)\n",
    "            elif i == '*':\n",
    "                stack.append(num1*num2)\n",
    "            elif i == '/':\n",
    "                stack.append(num1/num2)\n",
    "            elif i == '^':\n",
    "                stack.append(num1**num2)\n",
    "    return stack.pop()"
   ]
  },
  {
   "cell_type": "code",
   "execution_count": null,
   "metadata": {},
   "outputs": [],
   "source": [
    "def evaluate_postfix(expression):\n",
    "    stack = []\n",
    "\n",
    "    for token in expression:\n",
    "        if token.isdigit():  # Check if the token is an operand (assuming single-digit for simplicity)\n",
    "            stack.append(int(token))\n",
    "        else:  # Token is an operator\n",
    "            operand2 = stack.pop()\n",
    "            operand1 = stack.pop()\n",
    "            if token == '+':\n",
    "                stack.append(operand1 + operand2)\n",
    "            elif token == '-':\n",
    "                stack.append(operand1 - operand2)\n",
    "            elif token == '*':\n",
    "                stack.append(operand1 * operand2)\n",
    "            elif token == '/':\n",
    "                stack.append(operand1 / operand2)\n",
    "            elif token == '^':\n",
    "                stack.append(operand1 ** operand2)\n",
    "\n",
    "    return stack.pop()\n",
    "\n",
    "# Example usage\n",
    "postfix_expr = \"231*+9-\"\n",
    "result = evaluate_postfix(postfix_expr)\n",
    "print(\"The result of the postfix expression is:\", result)\n"
   ]
  },
  {
   "cell_type": "code",
   "execution_count": 26,
   "metadata": {},
   "outputs": [
    {
     "name": "stdout",
     "output_type": "stream",
     "text": [
      "-4\n"
     ]
    }
   ],
   "source": [
    "expr = \"231*+9-\"\n",
    "print(evaluate_postfix(expr))"
   ]
  },
  {
   "cell_type": "code",
   "execution_count": null,
   "metadata": {},
   "outputs": [],
   "source": []
  }
 ],
 "metadata": {
  "kernelspec": {
   "display_name": "Python 3",
   "language": "python",
   "name": "python3"
  },
  "language_info": {
   "codemirror_mode": {
    "name": "ipython",
    "version": 3
   },
   "file_extension": ".py",
   "mimetype": "text/x-python",
   "name": "python",
   "nbconvert_exporter": "python",
   "pygments_lexer": "ipython3",
   "version": "3.11.9"
  }
 },
 "nbformat": 4,
 "nbformat_minor": 2
}
